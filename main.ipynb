{
 "cells": [
  {
   "cell_type": "code",
   "execution_count": 1,
   "metadata": {},
   "outputs": [],
   "source": [
    "import pandas as pd\n",
    "import numpy as np\n",
    "import seaborn as sns\n",
    "import matplotlib.pyplot as plt"
   ]
  },
  {
   "cell_type": "markdown",
   "metadata": {},
   "source": [
    "## Database connection"
   ]
  },
  {
   "cell_type": "code",
   "execution_count": 2,
   "metadata": {},
   "outputs": [
    {
     "name": "stdout",
     "output_type": "stream",
     "text": [
      "Connected successfully!\n"
     ]
    }
   ],
   "source": [
    "from sqlalchemy import create_engine\n",
    "# username = 'sa'\n",
    "# password = 'orange505'\n",
    "# server = 'server'\n",
    "# database = 'Orange_Hrms_Odoo'\n",
    "\n",
    "import urllib\n",
    "params = urllib.parse.quote_plus(\"DRIVER={SQL Server};\"\n",
    "                                 \"SERVER=server;\"\n",
    "                                 \"DATABASE=Orange_Hrms_Odoo;\"\n",
    "                                 \"UID=sa;\"\n",
    "                                 \"PWD=orange505\")\n",
    "\n",
    "engine = create_engine(\"mssql+pyodbc:///?odbc_connect={}\".format(params))\n",
    "\n",
    "# Test the connection\n",
    "try:\n",
    "    with engine.connect() as connection:\n",
    "        print(\"Connected successfully!\")\n",
    "except Exception as e:\n",
    "    print(\"Connection failed:\", e)\n"
   ]
  },
  {
   "cell_type": "markdown",
   "metadata": {},
   "source": [
    " Add Increament Id or Join Increament Table"
   ]
  },
  {
   "cell_type": "code",
   "execution_count": 3,
   "metadata": {},
   "outputs": [
    {
     "data": {
      "text/html": [
       "<div>\n",
       "<style scoped>\n",
       "    .dataframe tbody tr th:only-of-type {\n",
       "        vertical-align: middle;\n",
       "    }\n",
       "\n",
       "    .dataframe tbody tr th {\n",
       "        vertical-align: top;\n",
       "    }\n",
       "\n",
       "    .dataframe thead th {\n",
       "        text-align: right;\n",
       "    }\n",
       "</style>\n",
       "<table border=\"1\" class=\"dataframe\">\n",
       "  <thead>\n",
       "    <tr style=\"text-align: right;\">\n",
       "      <th></th>\n",
       "      <th>Emp_ID</th>\n",
       "      <th>Alpha_Emp_Code</th>\n",
       "      <th>Marital_Status</th>\n",
       "      <th>Desig_Id</th>\n",
       "      <th>Emp_Left</th>\n",
       "      <th>Dept_ID</th>\n",
       "      <th>Gender</th>\n",
       "      <th>Date_Of_Birth</th>\n",
       "      <th>Date_Of_Join</th>\n",
       "      <th>Emp_Left_Date</th>\n",
       "      <th>State</th>\n",
       "      <th>City</th>\n",
       "      <th>Probation</th>\n",
       "      <th>Basic_Salary</th>\n",
       "      <th>Gross_Salary</th>\n",
       "      <th>Dept_Name</th>\n",
       "    </tr>\n",
       "  </thead>\n",
       "  <tbody>\n",
       "    <tr>\n",
       "      <th>0</th>\n",
       "      <td>13959.0</td>\n",
       "      <td>A0001</td>\n",
       "      <td>1</td>\n",
       "      <td>604.0</td>\n",
       "      <td>Y</td>\n",
       "      <td>303.0</td>\n",
       "      <td>M</td>\n",
       "      <td>1988-03-17</td>\n",
       "      <td>2008-12-01</td>\n",
       "      <td>2016-12-30</td>\n",
       "      <td>Karnataka</td>\n",
       "      <td>aaaa</td>\n",
       "      <td>0.0</td>\n",
       "      <td>30000.0</td>\n",
       "      <td>50751.00</td>\n",
       "      <td>Software</td>\n",
       "    </tr>\n",
       "    <tr>\n",
       "      <th>1</th>\n",
       "      <td>13967.0</td>\n",
       "      <td>A0009</td>\n",
       "      <td>1</td>\n",
       "      <td>616.0</td>\n",
       "      <td>Y</td>\n",
       "      <td>303.0</td>\n",
       "      <td>M</td>\n",
       "      <td>1983-02-03</td>\n",
       "      <td>2012-04-01</td>\n",
       "      <td>2015-12-01</td>\n",
       "      <td>GUJARAT</td>\n",
       "      <td>AHMEDABAD</td>\n",
       "      <td>0.0</td>\n",
       "      <td>30000.0</td>\n",
       "      <td>24557.00</td>\n",
       "      <td>Software</td>\n",
       "    </tr>\n",
       "    <tr>\n",
       "      <th>2</th>\n",
       "      <td>13968.0</td>\n",
       "      <td>A0010</td>\n",
       "      <td>0</td>\n",
       "      <td>616.0</td>\n",
       "      <td>Y</td>\n",
       "      <td>303.0</td>\n",
       "      <td>M</td>\n",
       "      <td>1990-01-25</td>\n",
       "      <td>2008-12-01</td>\n",
       "      <td>2015-11-30</td>\n",
       "      <td>Gujarat</td>\n",
       "      <td>AHMEDABAD</td>\n",
       "      <td>0.0</td>\n",
       "      <td>30000.0</td>\n",
       "      <td>50851.00</td>\n",
       "      <td>Software</td>\n",
       "    </tr>\n",
       "    <tr>\n",
       "      <th>3</th>\n",
       "      <td>13968.0</td>\n",
       "      <td>A0010</td>\n",
       "      <td>0</td>\n",
       "      <td>616.0</td>\n",
       "      <td>Y</td>\n",
       "      <td>303.0</td>\n",
       "      <td>M</td>\n",
       "      <td>1990-01-25</td>\n",
       "      <td>2008-12-01</td>\n",
       "      <td>2015-11-30</td>\n",
       "      <td>Gujarat</td>\n",
       "      <td>AHMEDABAD</td>\n",
       "      <td>0.0</td>\n",
       "      <td>30000.0</td>\n",
       "      <td>50751.00</td>\n",
       "      <td>Software</td>\n",
       "    </tr>\n",
       "    <tr>\n",
       "      <th>4</th>\n",
       "      <td>13968.0</td>\n",
       "      <td>A0010</td>\n",
       "      <td>0</td>\n",
       "      <td>616.0</td>\n",
       "      <td>Y</td>\n",
       "      <td>303.0</td>\n",
       "      <td>M</td>\n",
       "      <td>1990-01-25</td>\n",
       "      <td>2008-12-01</td>\n",
       "      <td>2015-11-30</td>\n",
       "      <td>Gujarat</td>\n",
       "      <td>AHMEDABAD</td>\n",
       "      <td>0.0</td>\n",
       "      <td>30000.0</td>\n",
       "      <td>44715.00</td>\n",
       "      <td>Software</td>\n",
       "    </tr>\n",
       "    <tr>\n",
       "      <th>...</th>\n",
       "      <td>...</td>\n",
       "      <td>...</td>\n",
       "      <td>...</td>\n",
       "      <td>...</td>\n",
       "      <td>...</td>\n",
       "      <td>...</td>\n",
       "      <td>...</td>\n",
       "      <td>...</td>\n",
       "      <td>...</td>\n",
       "      <td>...</td>\n",
       "      <td>...</td>\n",
       "      <td>...</td>\n",
       "      <td>...</td>\n",
       "      <td>...</td>\n",
       "      <td>...</td>\n",
       "      <td>...</td>\n",
       "    </tr>\n",
       "    <tr>\n",
       "      <th>8037</th>\n",
       "      <td>14562.0</td>\n",
       "      <td>B0003</td>\n",
       "      <td>1</td>\n",
       "      <td>621.0</td>\n",
       "      <td>N</td>\n",
       "      <td>765.0</td>\n",
       "      <td>F</td>\n",
       "      <td>1992-08-15</td>\n",
       "      <td>2008-08-26</td>\n",
       "      <td>NaT</td>\n",
       "      <td>Gujarat</td>\n",
       "      <td>test</td>\n",
       "      <td>0.0</td>\n",
       "      <td>38000.0</td>\n",
       "      <td>20197.87</td>\n",
       "      <td>Deepal</td>\n",
       "    </tr>\n",
       "    <tr>\n",
       "      <th>8038</th>\n",
       "      <td>14560.0</td>\n",
       "      <td>B0001</td>\n",
       "      <td>1</td>\n",
       "      <td>833.0</td>\n",
       "      <td>N</td>\n",
       "      <td>460.0</td>\n",
       "      <td>M</td>\n",
       "      <td>1980-10-06</td>\n",
       "      <td>2015-01-01</td>\n",
       "      <td>NaT</td>\n",
       "      <td>Gujarat</td>\n",
       "      <td>Vadodara</td>\n",
       "      <td>0.0</td>\n",
       "      <td>60500.0</td>\n",
       "      <td>14564.52</td>\n",
       "      <td>Human Resource</td>\n",
       "    </tr>\n",
       "    <tr>\n",
       "      <th>8039</th>\n",
       "      <td>19081.0</td>\n",
       "      <td>A5496</td>\n",
       "      <td>1</td>\n",
       "      <td>659.0</td>\n",
       "      <td>N</td>\n",
       "      <td>313.0</td>\n",
       "      <td>M</td>\n",
       "      <td>1988-03-17</td>\n",
       "      <td>2017-04-01</td>\n",
       "      <td>NaT</td>\n",
       "      <td>Gujarat</td>\n",
       "      <td>Aithor</td>\n",
       "      <td>0.0</td>\n",
       "      <td>20000.0</td>\n",
       "      <td>6004.90</td>\n",
       "      <td>Software</td>\n",
       "    </tr>\n",
       "    <tr>\n",
       "      <th>8040</th>\n",
       "      <td>21162.0</td>\n",
       "      <td>B5953</td>\n",
       "      <td>3</td>\n",
       "      <td>659.0</td>\n",
       "      <td>N</td>\n",
       "      <td>313.0</td>\n",
       "      <td>M</td>\n",
       "      <td>1988-03-17</td>\n",
       "      <td>2017-01-01</td>\n",
       "      <td>NaT</td>\n",
       "      <td></td>\n",
       "      <td></td>\n",
       "      <td>0.0</td>\n",
       "      <td>15000.0</td>\n",
       "      <td>5354.00</td>\n",
       "      <td>Software</td>\n",
       "    </tr>\n",
       "    <tr>\n",
       "      <th>8041</th>\n",
       "      <td>28179.0</td>\n",
       "      <td>B10436</td>\n",
       "      <td>0</td>\n",
       "      <td>1445.0</td>\n",
       "      <td>N</td>\n",
       "      <td>327.0</td>\n",
       "      <td>M</td>\n",
       "      <td>1997-05-28</td>\n",
       "      <td>2022-10-11</td>\n",
       "      <td>NaT</td>\n",
       "      <td>Andhra Pradesh</td>\n",
       "      <td>NDD</td>\n",
       "      <td>0.0</td>\n",
       "      <td>4000.0</td>\n",
       "      <td>13349.41</td>\n",
       "      <td>Testing &amp; Automation Department</td>\n",
       "    </tr>\n",
       "  </tbody>\n",
       "</table>\n",
       "<p>8042 rows × 16 columns</p>\n",
       "</div>"
      ],
      "text/plain": [
       "       Emp_ID Alpha_Emp_Code Marital_Status  Desig_Id Emp_Left  Dept_ID  \\\n",
       "0     13959.0          A0001              1     604.0        Y    303.0   \n",
       "1     13967.0          A0009              1     616.0        Y    303.0   \n",
       "2     13968.0          A0010              0     616.0        Y    303.0   \n",
       "3     13968.0          A0010              0     616.0        Y    303.0   \n",
       "4     13968.0          A0010              0     616.0        Y    303.0   \n",
       "...       ...            ...            ...       ...      ...      ...   \n",
       "8037  14562.0          B0003              1     621.0        N    765.0   \n",
       "8038  14560.0          B0001              1     833.0        N    460.0   \n",
       "8039  19081.0          A5496              1     659.0        N    313.0   \n",
       "8040  21162.0          B5953              3     659.0        N    313.0   \n",
       "8041  28179.0         B10436              0    1445.0        N    327.0   \n",
       "\n",
       "     Gender Date_Of_Birth Date_Of_Join Emp_Left_Date           State  \\\n",
       "0         M    1988-03-17   2008-12-01    2016-12-30       Karnataka   \n",
       "1         M    1983-02-03   2012-04-01    2015-12-01         GUJARAT   \n",
       "2         M    1990-01-25   2008-12-01    2015-11-30         Gujarat   \n",
       "3         M    1990-01-25   2008-12-01    2015-11-30         Gujarat   \n",
       "4         M    1990-01-25   2008-12-01    2015-11-30         Gujarat   \n",
       "...     ...           ...          ...           ...             ...   \n",
       "8037      F    1992-08-15   2008-08-26           NaT         Gujarat   \n",
       "8038      M    1980-10-06   2015-01-01           NaT         Gujarat   \n",
       "8039      M    1988-03-17   2017-04-01           NaT         Gujarat   \n",
       "8040      M    1988-03-17   2017-01-01           NaT                   \n",
       "8041      M    1997-05-28   2022-10-11           NaT  Andhra Pradesh   \n",
       "\n",
       "           City  Probation  Basic_Salary  Gross_Salary  \\\n",
       "0          aaaa        0.0       30000.0      50751.00   \n",
       "1     AHMEDABAD        0.0       30000.0      24557.00   \n",
       "2     AHMEDABAD        0.0       30000.0      50851.00   \n",
       "3     AHMEDABAD        0.0       30000.0      50751.00   \n",
       "4     AHMEDABAD        0.0       30000.0      44715.00   \n",
       "...         ...        ...           ...           ...   \n",
       "8037       test        0.0       38000.0      20197.87   \n",
       "8038   Vadodara        0.0       60500.0      14564.52   \n",
       "8039     Aithor        0.0       20000.0       6004.90   \n",
       "8040                   0.0       15000.0       5354.00   \n",
       "8041        NDD        0.0        4000.0      13349.41   \n",
       "\n",
       "                            Dept_Name  \n",
       "0                            Software  \n",
       "1                            Software  \n",
       "2                            Software  \n",
       "3                            Software  \n",
       "4                            Software  \n",
       "...                               ...  \n",
       "8037                           Deepal  \n",
       "8038                   Human Resource  \n",
       "8039                         Software  \n",
       "8040                         Software  \n",
       "8041  Testing & Automation Department  \n",
       "\n",
       "[8042 rows x 16 columns]"
      ]
     },
     "execution_count": 3,
     "metadata": {},
     "output_type": "execute_result"
    }
   ],
   "source": [
    "# Select Top 1000 Emp_Left,S.* from T0080_EMP_MASTER E inner join  T0200_MONTHLY_SALARY S on E.Emp_ID = S.Emp_ID where E.Emp_Left = 'N' AND  Cmp_ID = 120\n",
    "df = pd.read_sql(\"Select E.Emp_ID, E.Alpha_Emp_Code, E.Marital_Status, E.Desig_Id, E.Emp_Left, E.Dept_ID, E.Gender, E.Date_Of_Birth, E.Date_Of_Join, E.Emp_Left_Date, E.State, E.City, E.Probation, S.Basic_Salary, S.Gross_Salary, D.Dept_Name from  T0080_EMP_MASTER E inner join T0200_MONTHLY_SALARY S on E.Emp_ID = S.Emp_ID inner join T0040_DEPARTMENT_MASTER D on E.Dept_ID = D.Dept_ID where E.Cmp_id in (119,120)\", engine)\n",
    "df"
   ]
  },
  {
   "cell_type": "code",
   "execution_count": 4,
   "metadata": {},
   "outputs": [],
   "source": [
    "df.drop_duplicates(subset=['Alpha_Emp_Code'], inplace=True)"
   ]
  },
  {
   "cell_type": "code",
   "execution_count": 5,
   "metadata": {},
   "outputs": [
    {
     "data": {
      "text/html": [
       "<div>\n",
       "<style scoped>\n",
       "    .dataframe tbody tr th:only-of-type {\n",
       "        vertical-align: middle;\n",
       "    }\n",
       "\n",
       "    .dataframe tbody tr th {\n",
       "        vertical-align: top;\n",
       "    }\n",
       "\n",
       "    .dataframe thead th {\n",
       "        text-align: right;\n",
       "    }\n",
       "</style>\n",
       "<table border=\"1\" class=\"dataframe\">\n",
       "  <thead>\n",
       "    <tr style=\"text-align: right;\">\n",
       "      <th></th>\n",
       "      <th>Emp_ID</th>\n",
       "      <th>Alpha_Emp_Code</th>\n",
       "      <th>Marital_Status</th>\n",
       "      <th>Desig_Id</th>\n",
       "      <th>Emp_Left</th>\n",
       "      <th>Dept_ID</th>\n",
       "      <th>Gender</th>\n",
       "      <th>Date_Of_Birth</th>\n",
       "      <th>Date_Of_Join</th>\n",
       "      <th>Emp_Left_Date</th>\n",
       "      <th>State</th>\n",
       "      <th>City</th>\n",
       "      <th>Probation</th>\n",
       "      <th>Basic_Salary</th>\n",
       "      <th>Gross_Salary</th>\n",
       "      <th>Dept_Name</th>\n",
       "    </tr>\n",
       "  </thead>\n",
       "  <tbody>\n",
       "    <tr>\n",
       "      <th>0</th>\n",
       "      <td>13959.0</td>\n",
       "      <td>A0001</td>\n",
       "      <td>1</td>\n",
       "      <td>604.0</td>\n",
       "      <td>Y</td>\n",
       "      <td>303.0</td>\n",
       "      <td>M</td>\n",
       "      <td>1988-03-17</td>\n",
       "      <td>2008-12-01</td>\n",
       "      <td>2016-12-30</td>\n",
       "      <td>Karnataka</td>\n",
       "      <td>aaaa</td>\n",
       "      <td>0.0</td>\n",
       "      <td>30000.0</td>\n",
       "      <td>50751.0</td>\n",
       "      <td>Software</td>\n",
       "    </tr>\n",
       "    <tr>\n",
       "      <th>1</th>\n",
       "      <td>13967.0</td>\n",
       "      <td>A0009</td>\n",
       "      <td>1</td>\n",
       "      <td>616.0</td>\n",
       "      <td>Y</td>\n",
       "      <td>303.0</td>\n",
       "      <td>M</td>\n",
       "      <td>1983-02-03</td>\n",
       "      <td>2012-04-01</td>\n",
       "      <td>2015-12-01</td>\n",
       "      <td>GUJARAT</td>\n",
       "      <td>AHMEDABAD</td>\n",
       "      <td>0.0</td>\n",
       "      <td>30000.0</td>\n",
       "      <td>24557.0</td>\n",
       "      <td>Software</td>\n",
       "    </tr>\n",
       "    <tr>\n",
       "      <th>2</th>\n",
       "      <td>13968.0</td>\n",
       "      <td>A0010</td>\n",
       "      <td>0</td>\n",
       "      <td>616.0</td>\n",
       "      <td>Y</td>\n",
       "      <td>303.0</td>\n",
       "      <td>M</td>\n",
       "      <td>1990-01-25</td>\n",
       "      <td>2008-12-01</td>\n",
       "      <td>2015-11-30</td>\n",
       "      <td>Gujarat</td>\n",
       "      <td>AHMEDABAD</td>\n",
       "      <td>0.0</td>\n",
       "      <td>30000.0</td>\n",
       "      <td>50851.0</td>\n",
       "      <td>Software</td>\n",
       "    </tr>\n",
       "    <tr>\n",
       "      <th>5</th>\n",
       "      <td>14459.0</td>\n",
       "      <td>A0501</td>\n",
       "      <td>0</td>\n",
       "      <td>615.0</td>\n",
       "      <td>N</td>\n",
       "      <td>305.0</td>\n",
       "      <td>M</td>\n",
       "      <td>1990-05-15</td>\n",
       "      <td>2013-05-01</td>\n",
       "      <td>NaT</td>\n",
       "      <td>GUJARAT</td>\n",
       "      <td>AHMEDABAD</td>\n",
       "      <td>0.0</td>\n",
       "      <td>30000.0</td>\n",
       "      <td>49871.0</td>\n",
       "      <td>Support</td>\n",
       "    </tr>\n",
       "    <tr>\n",
       "      <th>7</th>\n",
       "      <td>14158.0</td>\n",
       "      <td>A0200</td>\n",
       "      <td>0</td>\n",
       "      <td>618.0</td>\n",
       "      <td>Y</td>\n",
       "      <td>306.0</td>\n",
       "      <td>M</td>\n",
       "      <td>1988-01-15</td>\n",
       "      <td>2010-08-17</td>\n",
       "      <td>2016-11-28</td>\n",
       "      <td>GUJARAT</td>\n",
       "      <td>AHMEDABAD</td>\n",
       "      <td>0.0</td>\n",
       "      <td>30000.0</td>\n",
       "      <td>49871.0</td>\n",
       "      <td>Sales</td>\n",
       "    </tr>\n",
       "  </tbody>\n",
       "</table>\n",
       "</div>"
      ],
      "text/plain": [
       "    Emp_ID Alpha_Emp_Code Marital_Status  Desig_Id Emp_Left  Dept_ID Gender  \\\n",
       "0  13959.0          A0001              1     604.0        Y    303.0      M   \n",
       "1  13967.0          A0009              1     616.0        Y    303.0      M   \n",
       "2  13968.0          A0010              0     616.0        Y    303.0      M   \n",
       "5  14459.0          A0501              0     615.0        N    305.0      M   \n",
       "7  14158.0          A0200              0     618.0        Y    306.0      M   \n",
       "\n",
       "  Date_Of_Birth Date_Of_Join Emp_Left_Date      State       City  Probation  \\\n",
       "0    1988-03-17   2008-12-01    2016-12-30  Karnataka       aaaa        0.0   \n",
       "1    1983-02-03   2012-04-01    2015-12-01    GUJARAT  AHMEDABAD        0.0   \n",
       "2    1990-01-25   2008-12-01    2015-11-30    Gujarat  AHMEDABAD        0.0   \n",
       "5    1990-05-15   2013-05-01           NaT    GUJARAT  AHMEDABAD        0.0   \n",
       "7    1988-01-15   2010-08-17    2016-11-28    GUJARAT  AHMEDABAD        0.0   \n",
       "\n",
       "   Basic_Salary  Gross_Salary Dept_Name  \n",
       "0       30000.0       50751.0  Software  \n",
       "1       30000.0       24557.0  Software  \n",
       "2       30000.0       50851.0  Software  \n",
       "5       30000.0       49871.0   Support  \n",
       "7       30000.0       49871.0     Sales  "
      ]
     },
     "execution_count": 5,
     "metadata": {},
     "output_type": "execute_result"
    }
   ],
   "source": [
    "df.head()"
   ]
  },
  {
   "cell_type": "code",
   "execution_count": 6,
   "metadata": {},
   "outputs": [
    {
     "data": {
      "text/html": [
       "<div>\n",
       "<style scoped>\n",
       "    .dataframe tbody tr th:only-of-type {\n",
       "        vertical-align: middle;\n",
       "    }\n",
       "\n",
       "    .dataframe tbody tr th {\n",
       "        vertical-align: top;\n",
       "    }\n",
       "\n",
       "    .dataframe thead th {\n",
       "        text-align: right;\n",
       "    }\n",
       "</style>\n",
       "<table border=\"1\" class=\"dataframe\">\n",
       "  <thead>\n",
       "    <tr style=\"text-align: right;\">\n",
       "      <th></th>\n",
       "      <th>Emp_ID</th>\n",
       "      <th>Alpha_Emp_Code</th>\n",
       "      <th>Marital_Status</th>\n",
       "      <th>Desig_Id</th>\n",
       "      <th>Emp_Left</th>\n",
       "      <th>Dept_ID</th>\n",
       "      <th>Gender</th>\n",
       "      <th>Date_Of_Birth</th>\n",
       "      <th>Date_Of_Join</th>\n",
       "      <th>Emp_Left_Date</th>\n",
       "      <th>State</th>\n",
       "      <th>City</th>\n",
       "      <th>Probation</th>\n",
       "      <th>Basic_Salary</th>\n",
       "      <th>Gross_Salary</th>\n",
       "      <th>Dept_Name</th>\n",
       "    </tr>\n",
       "  </thead>\n",
       "  <tbody>\n",
       "    <tr>\n",
       "      <th>8006</th>\n",
       "      <td>30101.0</td>\n",
       "      <td>B10945</td>\n",
       "      <td>0</td>\n",
       "      <td>659.0</td>\n",
       "      <td>N</td>\n",
       "      <td>313.0</td>\n",
       "      <td>M</td>\n",
       "      <td>1989-08-15</td>\n",
       "      <td>2023-01-01</td>\n",
       "      <td>NaT</td>\n",
       "      <td></td>\n",
       "      <td></td>\n",
       "      <td>0.0</td>\n",
       "      <td>19000.0</td>\n",
       "      <td>28600.00</td>\n",
       "      <td>Software</td>\n",
       "    </tr>\n",
       "    <tr>\n",
       "      <th>8009</th>\n",
       "      <td>30103.0</td>\n",
       "      <td>B10947</td>\n",
       "      <td>0</td>\n",
       "      <td>659.0</td>\n",
       "      <td>N</td>\n",
       "      <td>313.0</td>\n",
       "      <td>M</td>\n",
       "      <td>1989-08-15</td>\n",
       "      <td>2023-01-01</td>\n",
       "      <td>NaT</td>\n",
       "      <td></td>\n",
       "      <td></td>\n",
       "      <td>0.0</td>\n",
       "      <td>17500.0</td>\n",
       "      <td>26500.00</td>\n",
       "      <td>Software</td>\n",
       "    </tr>\n",
       "    <tr>\n",
       "      <th>8011</th>\n",
       "      <td>30104.0</td>\n",
       "      <td>B10948</td>\n",
       "      <td>0</td>\n",
       "      <td>659.0</td>\n",
       "      <td>Y</td>\n",
       "      <td>313.0</td>\n",
       "      <td>M</td>\n",
       "      <td>1989-08-15</td>\n",
       "      <td>2023-01-01</td>\n",
       "      <td>2023-12-23</td>\n",
       "      <td></td>\n",
       "      <td></td>\n",
       "      <td>0.0</td>\n",
       "      <td>19000.0</td>\n",
       "      <td>28600.00</td>\n",
       "      <td>Software</td>\n",
       "    </tr>\n",
       "    <tr>\n",
       "      <th>8015</th>\n",
       "      <td>30110.0</td>\n",
       "      <td>B10955</td>\n",
       "      <td>0</td>\n",
       "      <td>659.0</td>\n",
       "      <td>N</td>\n",
       "      <td>313.0</td>\n",
       "      <td>M</td>\n",
       "      <td>1989-08-15</td>\n",
       "      <td>2023-01-01</td>\n",
       "      <td>NaT</td>\n",
       "      <td></td>\n",
       "      <td></td>\n",
       "      <td>0.0</td>\n",
       "      <td>9300.0</td>\n",
       "      <td>75020.00</td>\n",
       "      <td>Software</td>\n",
       "    </tr>\n",
       "    <tr>\n",
       "      <th>8041</th>\n",
       "      <td>28179.0</td>\n",
       "      <td>B10436</td>\n",
       "      <td>0</td>\n",
       "      <td>1445.0</td>\n",
       "      <td>N</td>\n",
       "      <td>327.0</td>\n",
       "      <td>M</td>\n",
       "      <td>1997-05-28</td>\n",
       "      <td>2022-10-11</td>\n",
       "      <td>NaT</td>\n",
       "      <td>Andhra Pradesh</td>\n",
       "      <td>NDD</td>\n",
       "      <td>0.0</td>\n",
       "      <td>4000.0</td>\n",
       "      <td>13349.41</td>\n",
       "      <td>Testing &amp; Automation Department</td>\n",
       "    </tr>\n",
       "  </tbody>\n",
       "</table>\n",
       "</div>"
      ],
      "text/plain": [
       "       Emp_ID Alpha_Emp_Code Marital_Status  Desig_Id Emp_Left  Dept_ID  \\\n",
       "8006  30101.0         B10945              0     659.0        N    313.0   \n",
       "8009  30103.0         B10947              0     659.0        N    313.0   \n",
       "8011  30104.0         B10948              0     659.0        Y    313.0   \n",
       "8015  30110.0         B10955              0     659.0        N    313.0   \n",
       "8041  28179.0         B10436              0    1445.0        N    327.0   \n",
       "\n",
       "     Gender Date_Of_Birth Date_Of_Join Emp_Left_Date           State City  \\\n",
       "8006      M    1989-08-15   2023-01-01           NaT                        \n",
       "8009      M    1989-08-15   2023-01-01           NaT                        \n",
       "8011      M    1989-08-15   2023-01-01    2023-12-23                        \n",
       "8015      M    1989-08-15   2023-01-01           NaT                        \n",
       "8041      M    1997-05-28   2022-10-11           NaT  Andhra Pradesh  NDD   \n",
       "\n",
       "      Probation  Basic_Salary  Gross_Salary                        Dept_Name  \n",
       "8006        0.0       19000.0      28600.00                         Software  \n",
       "8009        0.0       17500.0      26500.00                         Software  \n",
       "8011        0.0       19000.0      28600.00                         Software  \n",
       "8015        0.0        9300.0      75020.00                         Software  \n",
       "8041        0.0        4000.0      13349.41  Testing & Automation Department  "
      ]
     },
     "execution_count": 6,
     "metadata": {},
     "output_type": "execute_result"
    }
   ],
   "source": [
    "df.tail()"
   ]
  },
  {
   "cell_type": "code",
   "execution_count": 7,
   "metadata": {},
   "outputs": [],
   "source": [
    "# Dateformat to str\n",
    "df[\"Date_Of_Birth\"] = df[\"Date_Of_Birth\"].dt.strftime(\"%d/%m/%Y\")\n",
    "df[\"Date_Of_Join\"] = df[\"Date_Of_Join\"].dt.strftime(\"%d/%m/%Y\")\n",
    "df[\"Emp_Left_Date\"] = df[\"Emp_Left_Date\"].dt.strftime(\"%d/%m/%Y\")"
   ]
  },
  {
   "cell_type": "code",
   "execution_count": 8,
   "metadata": {},
   "outputs": [
    {
     "name": "stdout",
     "output_type": "stream",
     "text": [
      "<class 'pandas.core.frame.DataFrame'>\n",
      "Index: 2771 entries, 0 to 8041\n",
      "Data columns (total 16 columns):\n",
      " #   Column          Non-Null Count  Dtype  \n",
      "---  ------          --------------  -----  \n",
      " 0   Emp_ID          2771 non-null   float64\n",
      " 1   Alpha_Emp_Code  2771 non-null   object \n",
      " 2   Marital_Status  2771 non-null   object \n",
      " 3   Desig_Id        2771 non-null   float64\n",
      " 4   Emp_Left        2771 non-null   object \n",
      " 5   Dept_ID         2771 non-null   float64\n",
      " 6   Gender          2771 non-null   object \n",
      " 7   Date_Of_Birth   2693 non-null   object \n",
      " 8   Date_Of_Join    2771 non-null   object \n",
      " 9   Emp_Left_Date   256 non-null    object \n",
      " 10  State           2770 non-null   object \n",
      " 11  City            2770 non-null   object \n",
      " 12  Probation       2771 non-null   float64\n",
      " 13  Basic_Salary    2771 non-null   float64\n",
      " 14  Gross_Salary    2762 non-null   float64\n",
      " 15  Dept_Name       2771 non-null   object \n",
      "dtypes: float64(6), object(10)\n",
      "memory usage: 368.0+ KB\n"
     ]
    }
   ],
   "source": [
    "df.info()"
   ]
  },
  {
   "cell_type": "code",
   "execution_count": 9,
   "metadata": {},
   "outputs": [
    {
     "data": {
      "text/html": [
       "<div>\n",
       "<style scoped>\n",
       "    .dataframe tbody tr th:only-of-type {\n",
       "        vertical-align: middle;\n",
       "    }\n",
       "\n",
       "    .dataframe tbody tr th {\n",
       "        vertical-align: top;\n",
       "    }\n",
       "\n",
       "    .dataframe thead th {\n",
       "        text-align: right;\n",
       "    }\n",
       "</style>\n",
       "<table border=\"1\" class=\"dataframe\">\n",
       "  <thead>\n",
       "    <tr style=\"text-align: right;\">\n",
       "      <th></th>\n",
       "      <th>Emp_ID</th>\n",
       "      <th>Alpha_Emp_Code</th>\n",
       "      <th>Marital_Status</th>\n",
       "      <th>Desig_Id</th>\n",
       "      <th>Emp_Left</th>\n",
       "      <th>Dept_ID</th>\n",
       "      <th>Gender</th>\n",
       "      <th>Date_Of_Birth</th>\n",
       "      <th>Date_Of_Join</th>\n",
       "      <th>Emp_Left_Date</th>\n",
       "      <th>State</th>\n",
       "      <th>City</th>\n",
       "      <th>Probation</th>\n",
       "      <th>Basic_Salary</th>\n",
       "      <th>Gross_Salary</th>\n",
       "      <th>Dept_Name</th>\n",
       "    </tr>\n",
       "  </thead>\n",
       "  <tbody>\n",
       "    <tr>\n",
       "      <th>0</th>\n",
       "      <td>13959.0</td>\n",
       "      <td>A0001</td>\n",
       "      <td>1</td>\n",
       "      <td>604.0</td>\n",
       "      <td>Y</td>\n",
       "      <td>303.0</td>\n",
       "      <td>M</td>\n",
       "      <td>17/03/1988</td>\n",
       "      <td>01/12/2008</td>\n",
       "      <td>30/12/2016</td>\n",
       "      <td>Karnataka</td>\n",
       "      <td>aaaa</td>\n",
       "      <td>0.0</td>\n",
       "      <td>30000.0</td>\n",
       "      <td>50751.00</td>\n",
       "      <td>Software</td>\n",
       "    </tr>\n",
       "    <tr>\n",
       "      <th>1</th>\n",
       "      <td>13967.0</td>\n",
       "      <td>A0009</td>\n",
       "      <td>1</td>\n",
       "      <td>616.0</td>\n",
       "      <td>Y</td>\n",
       "      <td>303.0</td>\n",
       "      <td>M</td>\n",
       "      <td>03/02/1983</td>\n",
       "      <td>01/04/2012</td>\n",
       "      <td>01/12/2015</td>\n",
       "      <td>GUJARAT</td>\n",
       "      <td>AHMEDABAD</td>\n",
       "      <td>0.0</td>\n",
       "      <td>30000.0</td>\n",
       "      <td>24557.00</td>\n",
       "      <td>Software</td>\n",
       "    </tr>\n",
       "    <tr>\n",
       "      <th>2</th>\n",
       "      <td>13968.0</td>\n",
       "      <td>A0010</td>\n",
       "      <td>0</td>\n",
       "      <td>616.0</td>\n",
       "      <td>Y</td>\n",
       "      <td>303.0</td>\n",
       "      <td>M</td>\n",
       "      <td>25/01/1990</td>\n",
       "      <td>01/12/2008</td>\n",
       "      <td>30/11/2015</td>\n",
       "      <td>Gujarat</td>\n",
       "      <td>AHMEDABAD</td>\n",
       "      <td>0.0</td>\n",
       "      <td>30000.0</td>\n",
       "      <td>50851.00</td>\n",
       "      <td>Software</td>\n",
       "    </tr>\n",
       "    <tr>\n",
       "      <th>5</th>\n",
       "      <td>14459.0</td>\n",
       "      <td>A0501</td>\n",
       "      <td>0</td>\n",
       "      <td>615.0</td>\n",
       "      <td>N</td>\n",
       "      <td>305.0</td>\n",
       "      <td>M</td>\n",
       "      <td>15/05/1990</td>\n",
       "      <td>01/05/2013</td>\n",
       "      <td>NaN</td>\n",
       "      <td>GUJARAT</td>\n",
       "      <td>AHMEDABAD</td>\n",
       "      <td>0.0</td>\n",
       "      <td>30000.0</td>\n",
       "      <td>49871.00</td>\n",
       "      <td>Support</td>\n",
       "    </tr>\n",
       "    <tr>\n",
       "      <th>7</th>\n",
       "      <td>14158.0</td>\n",
       "      <td>A0200</td>\n",
       "      <td>0</td>\n",
       "      <td>618.0</td>\n",
       "      <td>Y</td>\n",
       "      <td>306.0</td>\n",
       "      <td>M</td>\n",
       "      <td>15/01/1988</td>\n",
       "      <td>17/08/2010</td>\n",
       "      <td>28/11/2016</td>\n",
       "      <td>GUJARAT</td>\n",
       "      <td>AHMEDABAD</td>\n",
       "      <td>0.0</td>\n",
       "      <td>30000.0</td>\n",
       "      <td>49871.00</td>\n",
       "      <td>Sales</td>\n",
       "    </tr>\n",
       "    <tr>\n",
       "      <th>...</th>\n",
       "      <td>...</td>\n",
       "      <td>...</td>\n",
       "      <td>...</td>\n",
       "      <td>...</td>\n",
       "      <td>...</td>\n",
       "      <td>...</td>\n",
       "      <td>...</td>\n",
       "      <td>...</td>\n",
       "      <td>...</td>\n",
       "      <td>...</td>\n",
       "      <td>...</td>\n",
       "      <td>...</td>\n",
       "      <td>...</td>\n",
       "      <td>...</td>\n",
       "      <td>...</td>\n",
       "      <td>...</td>\n",
       "    </tr>\n",
       "    <tr>\n",
       "      <th>8006</th>\n",
       "      <td>30101.0</td>\n",
       "      <td>B10945</td>\n",
       "      <td>0</td>\n",
       "      <td>659.0</td>\n",
       "      <td>N</td>\n",
       "      <td>313.0</td>\n",
       "      <td>M</td>\n",
       "      <td>15/08/1989</td>\n",
       "      <td>01/01/2023</td>\n",
       "      <td>NaN</td>\n",
       "      <td></td>\n",
       "      <td></td>\n",
       "      <td>0.0</td>\n",
       "      <td>19000.0</td>\n",
       "      <td>28600.00</td>\n",
       "      <td>Software</td>\n",
       "    </tr>\n",
       "    <tr>\n",
       "      <th>8009</th>\n",
       "      <td>30103.0</td>\n",
       "      <td>B10947</td>\n",
       "      <td>0</td>\n",
       "      <td>659.0</td>\n",
       "      <td>N</td>\n",
       "      <td>313.0</td>\n",
       "      <td>M</td>\n",
       "      <td>15/08/1989</td>\n",
       "      <td>01/01/2023</td>\n",
       "      <td>NaN</td>\n",
       "      <td></td>\n",
       "      <td></td>\n",
       "      <td>0.0</td>\n",
       "      <td>17500.0</td>\n",
       "      <td>26500.00</td>\n",
       "      <td>Software</td>\n",
       "    </tr>\n",
       "    <tr>\n",
       "      <th>8011</th>\n",
       "      <td>30104.0</td>\n",
       "      <td>B10948</td>\n",
       "      <td>0</td>\n",
       "      <td>659.0</td>\n",
       "      <td>Y</td>\n",
       "      <td>313.0</td>\n",
       "      <td>M</td>\n",
       "      <td>15/08/1989</td>\n",
       "      <td>01/01/2023</td>\n",
       "      <td>23/12/2023</td>\n",
       "      <td></td>\n",
       "      <td></td>\n",
       "      <td>0.0</td>\n",
       "      <td>19000.0</td>\n",
       "      <td>28600.00</td>\n",
       "      <td>Software</td>\n",
       "    </tr>\n",
       "    <tr>\n",
       "      <th>8015</th>\n",
       "      <td>30110.0</td>\n",
       "      <td>B10955</td>\n",
       "      <td>0</td>\n",
       "      <td>659.0</td>\n",
       "      <td>N</td>\n",
       "      <td>313.0</td>\n",
       "      <td>M</td>\n",
       "      <td>15/08/1989</td>\n",
       "      <td>01/01/2023</td>\n",
       "      <td>NaN</td>\n",
       "      <td></td>\n",
       "      <td></td>\n",
       "      <td>0.0</td>\n",
       "      <td>9300.0</td>\n",
       "      <td>75020.00</td>\n",
       "      <td>Software</td>\n",
       "    </tr>\n",
       "    <tr>\n",
       "      <th>8041</th>\n",
       "      <td>28179.0</td>\n",
       "      <td>B10436</td>\n",
       "      <td>0</td>\n",
       "      <td>1445.0</td>\n",
       "      <td>N</td>\n",
       "      <td>327.0</td>\n",
       "      <td>M</td>\n",
       "      <td>28/05/1997</td>\n",
       "      <td>11/10/2022</td>\n",
       "      <td>NaN</td>\n",
       "      <td>Andhra Pradesh</td>\n",
       "      <td>NDD</td>\n",
       "      <td>0.0</td>\n",
       "      <td>4000.0</td>\n",
       "      <td>13349.41</td>\n",
       "      <td>Testing &amp; Automation Department</td>\n",
       "    </tr>\n",
       "  </tbody>\n",
       "</table>\n",
       "<p>2771 rows × 16 columns</p>\n",
       "</div>"
      ],
      "text/plain": [
       "       Emp_ID Alpha_Emp_Code Marital_Status  Desig_Id Emp_Left  Dept_ID  \\\n",
       "0     13959.0          A0001              1     604.0        Y    303.0   \n",
       "1     13967.0          A0009              1     616.0        Y    303.0   \n",
       "2     13968.0          A0010              0     616.0        Y    303.0   \n",
       "5     14459.0          A0501              0     615.0        N    305.0   \n",
       "7     14158.0          A0200              0     618.0        Y    306.0   \n",
       "...       ...            ...            ...       ...      ...      ...   \n",
       "8006  30101.0         B10945              0     659.0        N    313.0   \n",
       "8009  30103.0         B10947              0     659.0        N    313.0   \n",
       "8011  30104.0         B10948              0     659.0        Y    313.0   \n",
       "8015  30110.0         B10955              0     659.0        N    313.0   \n",
       "8041  28179.0         B10436              0    1445.0        N    327.0   \n",
       "\n",
       "     Gender Date_Of_Birth Date_Of_Join Emp_Left_Date           State  \\\n",
       "0         M    17/03/1988   01/12/2008    30/12/2016       Karnataka   \n",
       "1         M    03/02/1983   01/04/2012    01/12/2015         GUJARAT   \n",
       "2         M    25/01/1990   01/12/2008    30/11/2015         Gujarat   \n",
       "5         M    15/05/1990   01/05/2013           NaN         GUJARAT   \n",
       "7         M    15/01/1988   17/08/2010    28/11/2016         GUJARAT   \n",
       "...     ...           ...          ...           ...             ...   \n",
       "8006      M    15/08/1989   01/01/2023           NaN                   \n",
       "8009      M    15/08/1989   01/01/2023           NaN                   \n",
       "8011      M    15/08/1989   01/01/2023    23/12/2023                   \n",
       "8015      M    15/08/1989   01/01/2023           NaN                   \n",
       "8041      M    28/05/1997   11/10/2022           NaN  Andhra Pradesh   \n",
       "\n",
       "           City  Probation  Basic_Salary  Gross_Salary  \\\n",
       "0          aaaa        0.0       30000.0      50751.00   \n",
       "1     AHMEDABAD        0.0       30000.0      24557.00   \n",
       "2     AHMEDABAD        0.0       30000.0      50851.00   \n",
       "5     AHMEDABAD        0.0       30000.0      49871.00   \n",
       "7     AHMEDABAD        0.0       30000.0      49871.00   \n",
       "...         ...        ...           ...           ...   \n",
       "8006                   0.0       19000.0      28600.00   \n",
       "8009                   0.0       17500.0      26500.00   \n",
       "8011                   0.0       19000.0      28600.00   \n",
       "8015                   0.0        9300.0      75020.00   \n",
       "8041        NDD        0.0        4000.0      13349.41   \n",
       "\n",
       "                            Dept_Name  \n",
       "0                            Software  \n",
       "1                            Software  \n",
       "2                            Software  \n",
       "5                             Support  \n",
       "7                               Sales  \n",
       "...                               ...  \n",
       "8006                         Software  \n",
       "8009                         Software  \n",
       "8011                         Software  \n",
       "8015                         Software  \n",
       "8041  Testing & Automation Department  \n",
       "\n",
       "[2771 rows x 16 columns]"
      ]
     },
     "execution_count": 9,
     "metadata": {},
     "output_type": "execute_result"
    }
   ],
   "source": [
    "df"
   ]
  },
  {
   "cell_type": "code",
   "execution_count": 10,
   "metadata": {},
   "outputs": [],
   "source": [
    "df.to_csv('file1.csv')"
   ]
  },
  {
   "cell_type": "code",
   "execution_count": 11,
   "metadata": {},
   "outputs": [],
   "source": [
    "df_numeric = df.select_dtypes(include=['float64', 'int64'])\n",
    "df_objects = df.select_dtypes('object')"
   ]
  },
  {
   "cell_type": "code",
   "execution_count": 12,
   "metadata": {},
   "outputs": [
    {
     "data": {
      "text/html": [
       "<div>\n",
       "<style scoped>\n",
       "    .dataframe tbody tr th:only-of-type {\n",
       "        vertical-align: middle;\n",
       "    }\n",
       "\n",
       "    .dataframe tbody tr th {\n",
       "        vertical-align: top;\n",
       "    }\n",
       "\n",
       "    .dataframe thead th {\n",
       "        text-align: right;\n",
       "    }\n",
       "</style>\n",
       "<table border=\"1\" class=\"dataframe\">\n",
       "  <thead>\n",
       "    <tr style=\"text-align: right;\">\n",
       "      <th></th>\n",
       "      <th>Alpha_Emp_Code</th>\n",
       "      <th>Marital_Status</th>\n",
       "      <th>Emp_Left</th>\n",
       "      <th>Gender</th>\n",
       "      <th>Date_Of_Birth</th>\n",
       "      <th>Date_Of_Join</th>\n",
       "      <th>Emp_Left_Date</th>\n",
       "      <th>State</th>\n",
       "      <th>City</th>\n",
       "      <th>Dept_Name</th>\n",
       "    </tr>\n",
       "  </thead>\n",
       "  <tbody>\n",
       "    <tr>\n",
       "      <th>0</th>\n",
       "      <td>A0001</td>\n",
       "      <td>1</td>\n",
       "      <td>Y</td>\n",
       "      <td>M</td>\n",
       "      <td>17/03/1988</td>\n",
       "      <td>01/12/2008</td>\n",
       "      <td>30/12/2016</td>\n",
       "      <td>Karnataka</td>\n",
       "      <td>aaaa</td>\n",
       "      <td>Software</td>\n",
       "    </tr>\n",
       "    <tr>\n",
       "      <th>1</th>\n",
       "      <td>A0009</td>\n",
       "      <td>1</td>\n",
       "      <td>Y</td>\n",
       "      <td>M</td>\n",
       "      <td>03/02/1983</td>\n",
       "      <td>01/04/2012</td>\n",
       "      <td>01/12/2015</td>\n",
       "      <td>GUJARAT</td>\n",
       "      <td>AHMEDABAD</td>\n",
       "      <td>Software</td>\n",
       "    </tr>\n",
       "    <tr>\n",
       "      <th>2</th>\n",
       "      <td>A0010</td>\n",
       "      <td>0</td>\n",
       "      <td>Y</td>\n",
       "      <td>M</td>\n",
       "      <td>25/01/1990</td>\n",
       "      <td>01/12/2008</td>\n",
       "      <td>30/11/2015</td>\n",
       "      <td>Gujarat</td>\n",
       "      <td>AHMEDABAD</td>\n",
       "      <td>Software</td>\n",
       "    </tr>\n",
       "    <tr>\n",
       "      <th>5</th>\n",
       "      <td>A0501</td>\n",
       "      <td>0</td>\n",
       "      <td>N</td>\n",
       "      <td>M</td>\n",
       "      <td>15/05/1990</td>\n",
       "      <td>01/05/2013</td>\n",
       "      <td>NaN</td>\n",
       "      <td>GUJARAT</td>\n",
       "      <td>AHMEDABAD</td>\n",
       "      <td>Support</td>\n",
       "    </tr>\n",
       "    <tr>\n",
       "      <th>7</th>\n",
       "      <td>A0200</td>\n",
       "      <td>0</td>\n",
       "      <td>Y</td>\n",
       "      <td>M</td>\n",
       "      <td>15/01/1988</td>\n",
       "      <td>17/08/2010</td>\n",
       "      <td>28/11/2016</td>\n",
       "      <td>GUJARAT</td>\n",
       "      <td>AHMEDABAD</td>\n",
       "      <td>Sales</td>\n",
       "    </tr>\n",
       "    <tr>\n",
       "      <th>...</th>\n",
       "      <td>...</td>\n",
       "      <td>...</td>\n",
       "      <td>...</td>\n",
       "      <td>...</td>\n",
       "      <td>...</td>\n",
       "      <td>...</td>\n",
       "      <td>...</td>\n",
       "      <td>...</td>\n",
       "      <td>...</td>\n",
       "      <td>...</td>\n",
       "    </tr>\n",
       "    <tr>\n",
       "      <th>8006</th>\n",
       "      <td>B10945</td>\n",
       "      <td>0</td>\n",
       "      <td>N</td>\n",
       "      <td>M</td>\n",
       "      <td>15/08/1989</td>\n",
       "      <td>01/01/2023</td>\n",
       "      <td>NaN</td>\n",
       "      <td></td>\n",
       "      <td></td>\n",
       "      <td>Software</td>\n",
       "    </tr>\n",
       "    <tr>\n",
       "      <th>8009</th>\n",
       "      <td>B10947</td>\n",
       "      <td>0</td>\n",
       "      <td>N</td>\n",
       "      <td>M</td>\n",
       "      <td>15/08/1989</td>\n",
       "      <td>01/01/2023</td>\n",
       "      <td>NaN</td>\n",
       "      <td></td>\n",
       "      <td></td>\n",
       "      <td>Software</td>\n",
       "    </tr>\n",
       "    <tr>\n",
       "      <th>8011</th>\n",
       "      <td>B10948</td>\n",
       "      <td>0</td>\n",
       "      <td>Y</td>\n",
       "      <td>M</td>\n",
       "      <td>15/08/1989</td>\n",
       "      <td>01/01/2023</td>\n",
       "      <td>23/12/2023</td>\n",
       "      <td></td>\n",
       "      <td></td>\n",
       "      <td>Software</td>\n",
       "    </tr>\n",
       "    <tr>\n",
       "      <th>8015</th>\n",
       "      <td>B10955</td>\n",
       "      <td>0</td>\n",
       "      <td>N</td>\n",
       "      <td>M</td>\n",
       "      <td>15/08/1989</td>\n",
       "      <td>01/01/2023</td>\n",
       "      <td>NaN</td>\n",
       "      <td></td>\n",
       "      <td></td>\n",
       "      <td>Software</td>\n",
       "    </tr>\n",
       "    <tr>\n",
       "      <th>8041</th>\n",
       "      <td>B10436</td>\n",
       "      <td>0</td>\n",
       "      <td>N</td>\n",
       "      <td>M</td>\n",
       "      <td>28/05/1997</td>\n",
       "      <td>11/10/2022</td>\n",
       "      <td>NaN</td>\n",
       "      <td>Andhra Pradesh</td>\n",
       "      <td>NDD</td>\n",
       "      <td>Testing &amp; Automation Department</td>\n",
       "    </tr>\n",
       "  </tbody>\n",
       "</table>\n",
       "<p>2771 rows × 10 columns</p>\n",
       "</div>"
      ],
      "text/plain": [
       "     Alpha_Emp_Code Marital_Status Emp_Left Gender Date_Of_Birth Date_Of_Join  \\\n",
       "0             A0001              1        Y      M    17/03/1988   01/12/2008   \n",
       "1             A0009              1        Y      M    03/02/1983   01/04/2012   \n",
       "2             A0010              0        Y      M    25/01/1990   01/12/2008   \n",
       "5             A0501              0        N      M    15/05/1990   01/05/2013   \n",
       "7             A0200              0        Y      M    15/01/1988   17/08/2010   \n",
       "...             ...            ...      ...    ...           ...          ...   \n",
       "8006         B10945              0        N      M    15/08/1989   01/01/2023   \n",
       "8009         B10947              0        N      M    15/08/1989   01/01/2023   \n",
       "8011         B10948              0        Y      M    15/08/1989   01/01/2023   \n",
       "8015         B10955              0        N      M    15/08/1989   01/01/2023   \n",
       "8041         B10436              0        N      M    28/05/1997   11/10/2022   \n",
       "\n",
       "     Emp_Left_Date           State       City                        Dept_Name  \n",
       "0       30/12/2016       Karnataka       aaaa                         Software  \n",
       "1       01/12/2015         GUJARAT  AHMEDABAD                         Software  \n",
       "2       30/11/2015         Gujarat  AHMEDABAD                         Software  \n",
       "5              NaN         GUJARAT  AHMEDABAD                          Support  \n",
       "7       28/11/2016         GUJARAT  AHMEDABAD                            Sales  \n",
       "...            ...             ...        ...                              ...  \n",
       "8006           NaN                                                    Software  \n",
       "8009           NaN                                                    Software  \n",
       "8011    23/12/2023                                                    Software  \n",
       "8015           NaN                                                    Software  \n",
       "8041           NaN  Andhra Pradesh        NDD  Testing & Automation Department  \n",
       "\n",
       "[2771 rows x 10 columns]"
      ]
     },
     "execution_count": 12,
     "metadata": {},
     "output_type": "execute_result"
    }
   ],
   "source": [
    "df_objects"
   ]
  },
  {
   "cell_type": "code",
   "execution_count": 13,
   "metadata": {},
   "outputs": [
    {
     "data": {
      "text/plain": [
       "Index(['Alpha_Emp_Code', 'Marital_Status', 'Emp_Left', 'Gender',\n",
       "       'Date_Of_Birth', 'Date_Of_Join', 'Emp_Left_Date', 'State', 'City',\n",
       "       'Dept_Name'],\n",
       "      dtype='object')"
      ]
     },
     "execution_count": 13,
     "metadata": {},
     "output_type": "execute_result"
    }
   ],
   "source": [
    "df_objects.columns"
   ]
  },
  {
   "cell_type": "code",
   "execution_count": 14,
   "metadata": {},
   "outputs": [
    {
     "data": {
      "text/plain": [
       "Alpha_Emp_Code       0\n",
       "Marital_Status       0\n",
       "Emp_Left             0\n",
       "Gender               0\n",
       "Date_Of_Birth       78\n",
       "Date_Of_Join         0\n",
       "Emp_Left_Date     2515\n",
       "State                1\n",
       "City                 1\n",
       "Dept_Name            0\n",
       "dtype: int64"
      ]
     },
     "execution_count": 14,
     "metadata": {},
     "output_type": "execute_result"
    }
   ],
   "source": [
    "df_objects.isnull().sum()"
   ]
  },
  {
   "cell_type": "code",
   "execution_count": 15,
   "metadata": {},
   "outputs": [
    {
     "data": {
      "text/html": [
       "<div>\n",
       "<style scoped>\n",
       "    .dataframe tbody tr th:only-of-type {\n",
       "        vertical-align: middle;\n",
       "    }\n",
       "\n",
       "    .dataframe tbody tr th {\n",
       "        vertical-align: top;\n",
       "    }\n",
       "\n",
       "    .dataframe thead th {\n",
       "        text-align: right;\n",
       "    }\n",
       "</style>\n",
       "<table border=\"1\" class=\"dataframe\">\n",
       "  <thead>\n",
       "    <tr style=\"text-align: right;\">\n",
       "      <th></th>\n",
       "      <th>Emp_ID</th>\n",
       "      <th>Desig_Id</th>\n",
       "      <th>Dept_ID</th>\n",
       "      <th>Probation</th>\n",
       "      <th>Basic_Salary</th>\n",
       "      <th>Gross_Salary</th>\n",
       "    </tr>\n",
       "  </thead>\n",
       "  <tbody>\n",
       "    <tr>\n",
       "      <th>0</th>\n",
       "      <td>13959.0</td>\n",
       "      <td>604.0</td>\n",
       "      <td>303.0</td>\n",
       "      <td>0.0</td>\n",
       "      <td>30000.0</td>\n",
       "      <td>50751.00</td>\n",
       "    </tr>\n",
       "    <tr>\n",
       "      <th>1</th>\n",
       "      <td>13967.0</td>\n",
       "      <td>616.0</td>\n",
       "      <td>303.0</td>\n",
       "      <td>0.0</td>\n",
       "      <td>30000.0</td>\n",
       "      <td>24557.00</td>\n",
       "    </tr>\n",
       "    <tr>\n",
       "      <th>2</th>\n",
       "      <td>13968.0</td>\n",
       "      <td>616.0</td>\n",
       "      <td>303.0</td>\n",
       "      <td>0.0</td>\n",
       "      <td>30000.0</td>\n",
       "      <td>50851.00</td>\n",
       "    </tr>\n",
       "    <tr>\n",
       "      <th>5</th>\n",
       "      <td>14459.0</td>\n",
       "      <td>615.0</td>\n",
       "      <td>305.0</td>\n",
       "      <td>0.0</td>\n",
       "      <td>30000.0</td>\n",
       "      <td>49871.00</td>\n",
       "    </tr>\n",
       "    <tr>\n",
       "      <th>7</th>\n",
       "      <td>14158.0</td>\n",
       "      <td>618.0</td>\n",
       "      <td>306.0</td>\n",
       "      <td>0.0</td>\n",
       "      <td>30000.0</td>\n",
       "      <td>49871.00</td>\n",
       "    </tr>\n",
       "    <tr>\n",
       "      <th>...</th>\n",
       "      <td>...</td>\n",
       "      <td>...</td>\n",
       "      <td>...</td>\n",
       "      <td>...</td>\n",
       "      <td>...</td>\n",
       "      <td>...</td>\n",
       "    </tr>\n",
       "    <tr>\n",
       "      <th>8006</th>\n",
       "      <td>30101.0</td>\n",
       "      <td>659.0</td>\n",
       "      <td>313.0</td>\n",
       "      <td>0.0</td>\n",
       "      <td>19000.0</td>\n",
       "      <td>28600.00</td>\n",
       "    </tr>\n",
       "    <tr>\n",
       "      <th>8009</th>\n",
       "      <td>30103.0</td>\n",
       "      <td>659.0</td>\n",
       "      <td>313.0</td>\n",
       "      <td>0.0</td>\n",
       "      <td>17500.0</td>\n",
       "      <td>26500.00</td>\n",
       "    </tr>\n",
       "    <tr>\n",
       "      <th>8011</th>\n",
       "      <td>30104.0</td>\n",
       "      <td>659.0</td>\n",
       "      <td>313.0</td>\n",
       "      <td>0.0</td>\n",
       "      <td>19000.0</td>\n",
       "      <td>28600.00</td>\n",
       "    </tr>\n",
       "    <tr>\n",
       "      <th>8015</th>\n",
       "      <td>30110.0</td>\n",
       "      <td>659.0</td>\n",
       "      <td>313.0</td>\n",
       "      <td>0.0</td>\n",
       "      <td>9300.0</td>\n",
       "      <td>75020.00</td>\n",
       "    </tr>\n",
       "    <tr>\n",
       "      <th>8041</th>\n",
       "      <td>28179.0</td>\n",
       "      <td>1445.0</td>\n",
       "      <td>327.0</td>\n",
       "      <td>0.0</td>\n",
       "      <td>4000.0</td>\n",
       "      <td>13349.41</td>\n",
       "    </tr>\n",
       "  </tbody>\n",
       "</table>\n",
       "<p>2771 rows × 6 columns</p>\n",
       "</div>"
      ],
      "text/plain": [
       "       Emp_ID  Desig_Id  Dept_ID  Probation  Basic_Salary  Gross_Salary\n",
       "0     13959.0     604.0    303.0        0.0       30000.0      50751.00\n",
       "1     13967.0     616.0    303.0        0.0       30000.0      24557.00\n",
       "2     13968.0     616.0    303.0        0.0       30000.0      50851.00\n",
       "5     14459.0     615.0    305.0        0.0       30000.0      49871.00\n",
       "7     14158.0     618.0    306.0        0.0       30000.0      49871.00\n",
       "...       ...       ...      ...        ...           ...           ...\n",
       "8006  30101.0     659.0    313.0        0.0       19000.0      28600.00\n",
       "8009  30103.0     659.0    313.0        0.0       17500.0      26500.00\n",
       "8011  30104.0     659.0    313.0        0.0       19000.0      28600.00\n",
       "8015  30110.0     659.0    313.0        0.0        9300.0      75020.00\n",
       "8041  28179.0    1445.0    327.0        0.0        4000.0      13349.41\n",
       "\n",
       "[2771 rows x 6 columns]"
      ]
     },
     "execution_count": 15,
     "metadata": {},
     "output_type": "execute_result"
    }
   ],
   "source": [
    "df_numeric"
   ]
  },
  {
   "cell_type": "markdown",
   "metadata": {},
   "source": [
    "Numeric Column Taken \n",
    "1. Emp_ID, Branch_ID, Dept_ID, Shift_ID, Travel_Amount, Present_On_Holiday, Bond_Amount,PROBATION"
   ]
  },
  {
   "cell_type": "code",
   "execution_count": 16,
   "metadata": {},
   "outputs": [
    {
     "data": {
      "text/plain": [
       "Emp_ID          0\n",
       "Desig_Id        0\n",
       "Dept_ID         0\n",
       "Probation       0\n",
       "Basic_Salary    0\n",
       "Gross_Salary    9\n",
       "dtype: int64"
      ]
     },
     "execution_count": 16,
     "metadata": {},
     "output_type": "execute_result"
    }
   ],
   "source": [
    "df_numeric.isnull().sum()"
   ]
  },
  {
   "cell_type": "code",
   "execution_count": 17,
   "metadata": {},
   "outputs": [],
   "source": [
    "from datetime import datetime, date\n",
    "\n",
    "today = date.today()\n",
    "def age(born):\n",
    "    if isinstance(born, str):\n",
    "        born = datetime.strptime(born, \"%d/%m/%Y\").date()\n",
    "        return today.year - born.year - ((today.month, today.day) < (born.month, born.day))\n",
    "    else:\n",
    "        return 0"
   ]
  },
  {
   "cell_type": "code",
   "execution_count": 18,
   "metadata": {},
   "outputs": [
    {
     "data": {
      "text/plain": [
       "78"
      ]
     },
     "execution_count": 18,
     "metadata": {},
     "output_type": "execute_result"
    }
   ],
   "source": [
    "df[\"Date_Of_Birth\"].isnull().sum()"
   ]
  },
  {
   "cell_type": "code",
   "execution_count": 19,
   "metadata": {},
   "outputs": [
    {
     "data": {
      "text/plain": [
       "count           2693\n",
       "unique           857\n",
       "top       17/03/1988\n",
       "freq             511\n",
       "Name: Date_Of_Birth, dtype: object"
      ]
     },
     "execution_count": 19,
     "metadata": {},
     "output_type": "execute_result"
    }
   ],
   "source": [
    "df[\"Date_Of_Birth\"].describe()"
   ]
  },
  {
   "cell_type": "code",
   "execution_count": 20,
   "metadata": {},
   "outputs": [
    {
     "data": {
      "text/plain": [
       "0       36\n",
       "1       41\n",
       "2       34\n",
       "5       33\n",
       "7       36\n",
       "        ..\n",
       "8006    34\n",
       "8009    34\n",
       "8011    34\n",
       "8015    34\n",
       "8041    26\n",
       "Name: Age, Length: 2771, dtype: int64"
      ]
     },
     "execution_count": 20,
     "metadata": {},
     "output_type": "execute_result"
    }
   ],
   "source": [
    "df['Age'] = df['Date_Of_Birth'].apply(age)\n",
    "df['Age']\n",
    "# Gross_Salary"
   ]
  },
  {
   "cell_type": "code",
   "execution_count": 21,
   "metadata": {},
   "outputs": [
    {
     "name": "stdout",
     "output_type": "stream",
     "text": [
      "<class 'pandas.core.frame.DataFrame'>\n",
      "Index: 2771 entries, 0 to 8041\n",
      "Data columns (total 17 columns):\n",
      " #   Column          Non-Null Count  Dtype  \n",
      "---  ------          --------------  -----  \n",
      " 0   Emp_ID          2771 non-null   float64\n",
      " 1   Alpha_Emp_Code  2771 non-null   object \n",
      " 2   Marital_Status  2771 non-null   object \n",
      " 3   Desig_Id        2771 non-null   float64\n",
      " 4   Emp_Left        2771 non-null   object \n",
      " 5   Dept_ID         2771 non-null   float64\n",
      " 6   Gender          2771 non-null   object \n",
      " 7   Date_Of_Birth   2693 non-null   object \n",
      " 8   Date_Of_Join    2771 non-null   object \n",
      " 9   Emp_Left_Date   256 non-null    object \n",
      " 10  State           2770 non-null   object \n",
      " 11  City            2770 non-null   object \n",
      " 12  Probation       2771 non-null   float64\n",
      " 13  Basic_Salary    2771 non-null   float64\n",
      " 14  Gross_Salary    2762 non-null   float64\n",
      " 15  Dept_Name       2771 non-null   object \n",
      " 16  Age             2771 non-null   int64  \n",
      "dtypes: float64(6), int64(1), object(10)\n",
      "memory usage: 389.7+ KB\n"
     ]
    }
   ],
   "source": [
    "df.info()"
   ]
  },
  {
   "cell_type": "code",
   "execution_count": 22,
   "metadata": {},
   "outputs": [],
   "source": [
    "df = df.dropna(subset=[\"Dept_ID\"])"
   ]
  },
  {
   "cell_type": "code",
   "execution_count": 23,
   "metadata": {},
   "outputs": [
    {
     "data": {
      "text/html": [
       "<div>\n",
       "<style scoped>\n",
       "    .dataframe tbody tr th:only-of-type {\n",
       "        vertical-align: middle;\n",
       "    }\n",
       "\n",
       "    .dataframe tbody tr th {\n",
       "        vertical-align: top;\n",
       "    }\n",
       "\n",
       "    .dataframe thead th {\n",
       "        text-align: right;\n",
       "    }\n",
       "</style>\n",
       "<table border=\"1\" class=\"dataframe\">\n",
       "  <thead>\n",
       "    <tr style=\"text-align: right;\">\n",
       "      <th></th>\n",
       "      <th>Emp_Left</th>\n",
       "      <th>Dept_ID</th>\n",
       "      <th>Age</th>\n",
       "      <th>Desig_Id</th>\n",
       "      <th>Marital_Status</th>\n",
       "      <th>Gender</th>\n",
       "      <th>State</th>\n",
       "      <th>City</th>\n",
       "      <th>Probation</th>\n",
       "      <th>Basic_Salary</th>\n",
       "      <th>Gross_Salary</th>\n",
       "    </tr>\n",
       "  </thead>\n",
       "  <tbody>\n",
       "    <tr>\n",
       "      <th>0</th>\n",
       "      <td>Y</td>\n",
       "      <td>303.0</td>\n",
       "      <td>36</td>\n",
       "      <td>604.0</td>\n",
       "      <td>1</td>\n",
       "      <td>M</td>\n",
       "      <td>Karnataka</td>\n",
       "      <td>aaaa</td>\n",
       "      <td>0.0</td>\n",
       "      <td>30000.0</td>\n",
       "      <td>50751.00</td>\n",
       "    </tr>\n",
       "    <tr>\n",
       "      <th>1</th>\n",
       "      <td>Y</td>\n",
       "      <td>303.0</td>\n",
       "      <td>41</td>\n",
       "      <td>616.0</td>\n",
       "      <td>1</td>\n",
       "      <td>M</td>\n",
       "      <td>GUJARAT</td>\n",
       "      <td>AHMEDABAD</td>\n",
       "      <td>0.0</td>\n",
       "      <td>30000.0</td>\n",
       "      <td>24557.00</td>\n",
       "    </tr>\n",
       "    <tr>\n",
       "      <th>2</th>\n",
       "      <td>Y</td>\n",
       "      <td>303.0</td>\n",
       "      <td>34</td>\n",
       "      <td>616.0</td>\n",
       "      <td>0</td>\n",
       "      <td>M</td>\n",
       "      <td>Gujarat</td>\n",
       "      <td>AHMEDABAD</td>\n",
       "      <td>0.0</td>\n",
       "      <td>30000.0</td>\n",
       "      <td>50851.00</td>\n",
       "    </tr>\n",
       "    <tr>\n",
       "      <th>5</th>\n",
       "      <td>N</td>\n",
       "      <td>305.0</td>\n",
       "      <td>33</td>\n",
       "      <td>615.0</td>\n",
       "      <td>0</td>\n",
       "      <td>M</td>\n",
       "      <td>GUJARAT</td>\n",
       "      <td>AHMEDABAD</td>\n",
       "      <td>0.0</td>\n",
       "      <td>30000.0</td>\n",
       "      <td>49871.00</td>\n",
       "    </tr>\n",
       "    <tr>\n",
       "      <th>7</th>\n",
       "      <td>Y</td>\n",
       "      <td>306.0</td>\n",
       "      <td>36</td>\n",
       "      <td>618.0</td>\n",
       "      <td>0</td>\n",
       "      <td>M</td>\n",
       "      <td>GUJARAT</td>\n",
       "      <td>AHMEDABAD</td>\n",
       "      <td>0.0</td>\n",
       "      <td>30000.0</td>\n",
       "      <td>49871.00</td>\n",
       "    </tr>\n",
       "    <tr>\n",
       "      <th>...</th>\n",
       "      <td>...</td>\n",
       "      <td>...</td>\n",
       "      <td>...</td>\n",
       "      <td>...</td>\n",
       "      <td>...</td>\n",
       "      <td>...</td>\n",
       "      <td>...</td>\n",
       "      <td>...</td>\n",
       "      <td>...</td>\n",
       "      <td>...</td>\n",
       "      <td>...</td>\n",
       "    </tr>\n",
       "    <tr>\n",
       "      <th>8006</th>\n",
       "      <td>N</td>\n",
       "      <td>313.0</td>\n",
       "      <td>34</td>\n",
       "      <td>659.0</td>\n",
       "      <td>0</td>\n",
       "      <td>M</td>\n",
       "      <td></td>\n",
       "      <td></td>\n",
       "      <td>0.0</td>\n",
       "      <td>19000.0</td>\n",
       "      <td>28600.00</td>\n",
       "    </tr>\n",
       "    <tr>\n",
       "      <th>8009</th>\n",
       "      <td>N</td>\n",
       "      <td>313.0</td>\n",
       "      <td>34</td>\n",
       "      <td>659.0</td>\n",
       "      <td>0</td>\n",
       "      <td>M</td>\n",
       "      <td></td>\n",
       "      <td></td>\n",
       "      <td>0.0</td>\n",
       "      <td>17500.0</td>\n",
       "      <td>26500.00</td>\n",
       "    </tr>\n",
       "    <tr>\n",
       "      <th>8011</th>\n",
       "      <td>Y</td>\n",
       "      <td>313.0</td>\n",
       "      <td>34</td>\n",
       "      <td>659.0</td>\n",
       "      <td>0</td>\n",
       "      <td>M</td>\n",
       "      <td></td>\n",
       "      <td></td>\n",
       "      <td>0.0</td>\n",
       "      <td>19000.0</td>\n",
       "      <td>28600.00</td>\n",
       "    </tr>\n",
       "    <tr>\n",
       "      <th>8015</th>\n",
       "      <td>N</td>\n",
       "      <td>313.0</td>\n",
       "      <td>34</td>\n",
       "      <td>659.0</td>\n",
       "      <td>0</td>\n",
       "      <td>M</td>\n",
       "      <td></td>\n",
       "      <td></td>\n",
       "      <td>0.0</td>\n",
       "      <td>9300.0</td>\n",
       "      <td>75020.00</td>\n",
       "    </tr>\n",
       "    <tr>\n",
       "      <th>8041</th>\n",
       "      <td>N</td>\n",
       "      <td>327.0</td>\n",
       "      <td>26</td>\n",
       "      <td>1445.0</td>\n",
       "      <td>0</td>\n",
       "      <td>M</td>\n",
       "      <td>Andhra Pradesh</td>\n",
       "      <td>NDD</td>\n",
       "      <td>0.0</td>\n",
       "      <td>4000.0</td>\n",
       "      <td>13349.41</td>\n",
       "    </tr>\n",
       "  </tbody>\n",
       "</table>\n",
       "<p>2771 rows × 11 columns</p>\n",
       "</div>"
      ],
      "text/plain": [
       "     Emp_Left  Dept_ID  Age  Desig_Id Marital_Status Gender           State  \\\n",
       "0           Y    303.0   36     604.0              1      M       Karnataka   \n",
       "1           Y    303.0   41     616.0              1      M         GUJARAT   \n",
       "2           Y    303.0   34     616.0              0      M         Gujarat   \n",
       "5           N    305.0   33     615.0              0      M         GUJARAT   \n",
       "7           Y    306.0   36     618.0              0      M         GUJARAT   \n",
       "...       ...      ...  ...       ...            ...    ...             ...   \n",
       "8006        N    313.0   34     659.0              0      M                   \n",
       "8009        N    313.0   34     659.0              0      M                   \n",
       "8011        Y    313.0   34     659.0              0      M                   \n",
       "8015        N    313.0   34     659.0              0      M                   \n",
       "8041        N    327.0   26    1445.0              0      M  Andhra Pradesh   \n",
       "\n",
       "           City  Probation  Basic_Salary  Gross_Salary  \n",
       "0          aaaa        0.0       30000.0      50751.00  \n",
       "1     AHMEDABAD        0.0       30000.0      24557.00  \n",
       "2     AHMEDABAD        0.0       30000.0      50851.00  \n",
       "5     AHMEDABAD        0.0       30000.0      49871.00  \n",
       "7     AHMEDABAD        0.0       30000.0      49871.00  \n",
       "...         ...        ...           ...           ...  \n",
       "8006                   0.0       19000.0      28600.00  \n",
       "8009                   0.0       17500.0      26500.00  \n",
       "8011                   0.0       19000.0      28600.00  \n",
       "8015                   0.0        9300.0      75020.00  \n",
       "8041        NDD        0.0        4000.0      13349.41  \n",
       "\n",
       "[2771 rows x 11 columns]"
      ]
     },
     "execution_count": 23,
     "metadata": {},
     "output_type": "execute_result"
    }
   ],
   "source": [
    "df1 = df[['Emp_Left','Dept_ID','Age','Desig_Id','Marital_Status', 'Gender', 'State','City', 'Probation', 'Basic_Salary', 'Gross_Salary']]\n",
    "df1"
   ]
  },
  {
   "cell_type": "code",
   "execution_count": 24,
   "metadata": {},
   "outputs": [],
   "source": [
    "# df1 = df1[df1['Dept_ID'].notna()]"
   ]
  },
  {
   "cell_type": "code",
   "execution_count": 25,
   "metadata": {},
   "outputs": [
    {
     "name": "stdout",
     "output_type": "stream",
     "text": [
      "<class 'pandas.core.frame.DataFrame'>\n",
      "Index: 2771 entries, 0 to 8041\n",
      "Data columns (total 11 columns):\n",
      " #   Column          Non-Null Count  Dtype  \n",
      "---  ------          --------------  -----  \n",
      " 0   Emp_Left        2771 non-null   object \n",
      " 1   Dept_ID         2771 non-null   float64\n",
      " 2   Age             2771 non-null   int64  \n",
      " 3   Desig_Id        2771 non-null   float64\n",
      " 4   Marital_Status  2771 non-null   object \n",
      " 5   Gender          2771 non-null   object \n",
      " 6   State           2770 non-null   object \n",
      " 7   City            2770 non-null   object \n",
      " 8   Probation       2771 non-null   float64\n",
      " 9   Basic_Salary    2771 non-null   float64\n",
      " 10  Gross_Salary    2762 non-null   float64\n",
      "dtypes: float64(5), int64(1), object(5)\n",
      "memory usage: 259.8+ KB\n"
     ]
    }
   ],
   "source": [
    "df1.info()"
   ]
  },
  {
   "cell_type": "code",
   "execution_count": 26,
   "metadata": {},
   "outputs": [
    {
     "data": {
      "text/plain": [
       "Emp_Left          0\n",
       "Dept_ID           0\n",
       "Age               0\n",
       "Desig_Id          0\n",
       "Marital_Status    0\n",
       "Gender            0\n",
       "State             1\n",
       "City              1\n",
       "Probation         0\n",
       "Basic_Salary      0\n",
       "Gross_Salary      9\n",
       "dtype: int64"
      ]
     },
     "execution_count": 26,
     "metadata": {},
     "output_type": "execute_result"
    }
   ],
   "source": [
    "df1.isnull().sum()"
   ]
  },
  {
   "cell_type": "code",
   "execution_count": 27,
   "metadata": {},
   "outputs": [
    {
     "data": {
      "text/html": [
       "<div>\n",
       "<style scoped>\n",
       "    .dataframe tbody tr th:only-of-type {\n",
       "        vertical-align: middle;\n",
       "    }\n",
       "\n",
       "    .dataframe tbody tr th {\n",
       "        vertical-align: top;\n",
       "    }\n",
       "\n",
       "    .dataframe thead th {\n",
       "        text-align: right;\n",
       "    }\n",
       "</style>\n",
       "<table border=\"1\" class=\"dataframe\">\n",
       "  <thead>\n",
       "    <tr style=\"text-align: right;\">\n",
       "      <th></th>\n",
       "      <th>count</th>\n",
       "      <th>mean</th>\n",
       "      <th>std</th>\n",
       "      <th>min</th>\n",
       "      <th>25%</th>\n",
       "      <th>50%</th>\n",
       "      <th>75%</th>\n",
       "      <th>max</th>\n",
       "    </tr>\n",
       "  </thead>\n",
       "  <tbody>\n",
       "    <tr>\n",
       "      <th>Dept_ID</th>\n",
       "      <td>2771.0</td>\n",
       "      <td>312.553230</td>\n",
       "      <td>41.309927</td>\n",
       "      <td>303.0</td>\n",
       "      <td>303.0</td>\n",
       "      <td>305.0</td>\n",
       "      <td>308.0</td>\n",
       "      <td>768.0</td>\n",
       "    </tr>\n",
       "    <tr>\n",
       "      <th>Age</th>\n",
       "      <td>2771.0</td>\n",
       "      <td>38.428726</td>\n",
       "      <td>10.080518</td>\n",
       "      <td>0.0</td>\n",
       "      <td>34.0</td>\n",
       "      <td>36.0</td>\n",
       "      <td>44.0</td>\n",
       "      <td>136.0</td>\n",
       "    </tr>\n",
       "    <tr>\n",
       "      <th>Desig_Id</th>\n",
       "      <td>2771.0</td>\n",
       "      <td>643.788524</td>\n",
       "      <td>103.764949</td>\n",
       "      <td>604.0</td>\n",
       "      <td>610.0</td>\n",
       "      <td>614.0</td>\n",
       "      <td>620.0</td>\n",
       "      <td>1496.0</td>\n",
       "    </tr>\n",
       "    <tr>\n",
       "      <th>Probation</th>\n",
       "      <td>2771.0</td>\n",
       "      <td>0.027066</td>\n",
       "      <td>0.355955</td>\n",
       "      <td>0.0</td>\n",
       "      <td>0.0</td>\n",
       "      <td>0.0</td>\n",
       "      <td>0.0</td>\n",
       "      <td>6.0</td>\n",
       "    </tr>\n",
       "    <tr>\n",
       "      <th>Basic_Salary</th>\n",
       "      <td>2771.0</td>\n",
       "      <td>21128.731267</td>\n",
       "      <td>40821.835824</td>\n",
       "      <td>0.0</td>\n",
       "      <td>12300.0</td>\n",
       "      <td>18000.0</td>\n",
       "      <td>30000.0</td>\n",
       "      <td>1700000.0</td>\n",
       "    </tr>\n",
       "    <tr>\n",
       "      <th>Gross_Salary</th>\n",
       "      <td>2762.0</td>\n",
       "      <td>29911.715565</td>\n",
       "      <td>59857.313348</td>\n",
       "      <td>-8093.0</td>\n",
       "      <td>15829.0</td>\n",
       "      <td>25800.0</td>\n",
       "      <td>35199.7</td>\n",
       "      <td>2382700.0</td>\n",
       "    </tr>\n",
       "  </tbody>\n",
       "</table>\n",
       "</div>"
      ],
      "text/plain": [
       "               count          mean           std     min      25%      50%  \\\n",
       "Dept_ID       2771.0    312.553230     41.309927   303.0    303.0    305.0   \n",
       "Age           2771.0     38.428726     10.080518     0.0     34.0     36.0   \n",
       "Desig_Id      2771.0    643.788524    103.764949   604.0    610.0    614.0   \n",
       "Probation     2771.0      0.027066      0.355955     0.0      0.0      0.0   \n",
       "Basic_Salary  2771.0  21128.731267  40821.835824     0.0  12300.0  18000.0   \n",
       "Gross_Salary  2762.0  29911.715565  59857.313348 -8093.0  15829.0  25800.0   \n",
       "\n",
       "                  75%        max  \n",
       "Dept_ID         308.0      768.0  \n",
       "Age              44.0      136.0  \n",
       "Desig_Id        620.0     1496.0  \n",
       "Probation         0.0        6.0  \n",
       "Basic_Salary  30000.0  1700000.0  \n",
       "Gross_Salary  35199.7  2382700.0  "
      ]
     },
     "execution_count": 27,
     "metadata": {},
     "output_type": "execute_result"
    }
   ],
   "source": [
    "df1.describe().T"
   ]
  },
  {
   "cell_type": "code",
   "execution_count": 28,
   "metadata": {},
   "outputs": [
    {
     "data": {
      "text/plain": [
       "136"
      ]
     },
     "execution_count": 28,
     "metadata": {},
     "output_type": "execute_result"
    }
   ],
   "source": [
    "df1[\"Age\"].max()"
   ]
  },
  {
   "cell_type": "code",
   "execution_count": 29,
   "metadata": {},
   "outputs": [
    {
     "data": {
      "text/html": [
       "<div>\n",
       "<style scoped>\n",
       "    .dataframe tbody tr th:only-of-type {\n",
       "        vertical-align: middle;\n",
       "    }\n",
       "\n",
       "    .dataframe tbody tr th {\n",
       "        vertical-align: top;\n",
       "    }\n",
       "\n",
       "    .dataframe thead th {\n",
       "        text-align: right;\n",
       "    }\n",
       "</style>\n",
       "<table border=\"1\" class=\"dataframe\">\n",
       "  <thead>\n",
       "    <tr style=\"text-align: right;\">\n",
       "      <th></th>\n",
       "      <th>Emp_Left</th>\n",
       "      <th>Dept_ID</th>\n",
       "      <th>Age</th>\n",
       "      <th>Desig_Id</th>\n",
       "      <th>Marital_Status</th>\n",
       "      <th>Gender</th>\n",
       "      <th>State</th>\n",
       "      <th>City</th>\n",
       "      <th>Probation</th>\n",
       "      <th>Basic_Salary</th>\n",
       "      <th>Gross_Salary</th>\n",
       "    </tr>\n",
       "  </thead>\n",
       "  <tbody>\n",
       "    <tr>\n",
       "      <th>46</th>\n",
       "      <td>N</td>\n",
       "      <td>305.0</td>\n",
       "      <td>68</td>\n",
       "      <td>615.0</td>\n",
       "      <td>1</td>\n",
       "      <td>M</td>\n",
       "      <td>GUJARAT</td>\n",
       "      <td></td>\n",
       "      <td>0.0</td>\n",
       "      <td>30000.0</td>\n",
       "      <td>39000.00</td>\n",
       "    </tr>\n",
       "    <tr>\n",
       "      <th>140</th>\n",
       "      <td>Y</td>\n",
       "      <td>303.0</td>\n",
       "      <td>66</td>\n",
       "      <td>610.0</td>\n",
       "      <td>1</td>\n",
       "      <td>M</td>\n",
       "      <td></td>\n",
       "      <td></td>\n",
       "      <td>0.0</td>\n",
       "      <td>30000.0</td>\n",
       "      <td>50751.00</td>\n",
       "    </tr>\n",
       "    <tr>\n",
       "      <th>816</th>\n",
       "      <td>N</td>\n",
       "      <td>303.0</td>\n",
       "      <td>92</td>\n",
       "      <td>610.0</td>\n",
       "      <td>0</td>\n",
       "      <td>M</td>\n",
       "      <td></td>\n",
       "      <td></td>\n",
       "      <td>0.0</td>\n",
       "      <td>15000.0</td>\n",
       "      <td>26121.00</td>\n",
       "    </tr>\n",
       "    <tr>\n",
       "      <th>862</th>\n",
       "      <td>Y</td>\n",
       "      <td>308.0</td>\n",
       "      <td>68</td>\n",
       "      <td>611.0</td>\n",
       "      <td>0</td>\n",
       "      <td>M</td>\n",
       "      <td>Gujarat</td>\n",
       "      <td></td>\n",
       "      <td>0.0</td>\n",
       "      <td>30000.0</td>\n",
       "      <td>33327.33</td>\n",
       "    </tr>\n",
       "    <tr>\n",
       "      <th>1400</th>\n",
       "      <td>N</td>\n",
       "      <td>305.0</td>\n",
       "      <td>67</td>\n",
       "      <td>610.0</td>\n",
       "      <td>1</td>\n",
       "      <td>M</td>\n",
       "      <td>GUJARAT</td>\n",
       "      <td>SURAT</td>\n",
       "      <td>0.0</td>\n",
       "      <td>30000.0</td>\n",
       "      <td>50171.00</td>\n",
       "    </tr>\n",
       "    <tr>\n",
       "      <th>1778</th>\n",
       "      <td>N</td>\n",
       "      <td>303.0</td>\n",
       "      <td>72</td>\n",
       "      <td>610.0</td>\n",
       "      <td>0</td>\n",
       "      <td>M</td>\n",
       "      <td></td>\n",
       "      <td></td>\n",
       "      <td>0.0</td>\n",
       "      <td>28000.0</td>\n",
       "      <td>41600.00</td>\n",
       "    </tr>\n",
       "    <tr>\n",
       "      <th>3578</th>\n",
       "      <td>Y</td>\n",
       "      <td>303.0</td>\n",
       "      <td>136</td>\n",
       "      <td>615.0</td>\n",
       "      <td>0</td>\n",
       "      <td>M</td>\n",
       "      <td></td>\n",
       "      <td></td>\n",
       "      <td>0.0</td>\n",
       "      <td>7000.0</td>\n",
       "      <td>7300.00</td>\n",
       "    </tr>\n",
       "  </tbody>\n",
       "</table>\n",
       "</div>"
      ],
      "text/plain": [
       "     Emp_Left  Dept_ID  Age  Desig_Id Marital_Status Gender    State   City  \\\n",
       "46          N    305.0   68     615.0              1      M  GUJARAT          \n",
       "140         Y    303.0   66     610.0              1      M                   \n",
       "816         N    303.0   92     610.0              0      M                   \n",
       "862         Y    308.0   68     611.0              0      M  Gujarat          \n",
       "1400        N    305.0   67     610.0              1      M  GUJARAT  SURAT   \n",
       "1778        N    303.0   72     610.0              0      M                   \n",
       "3578        Y    303.0  136     615.0              0      M                   \n",
       "\n",
       "      Probation  Basic_Salary  Gross_Salary  \n",
       "46          0.0       30000.0      39000.00  \n",
       "140         0.0       30000.0      50751.00  \n",
       "816         0.0       15000.0      26121.00  \n",
       "862         0.0       30000.0      33327.33  \n",
       "1400        0.0       30000.0      50171.00  \n",
       "1778        0.0       28000.0      41600.00  \n",
       "3578        0.0        7000.0       7300.00  "
      ]
     },
     "execution_count": 29,
     "metadata": {},
     "output_type": "execute_result"
    }
   ],
   "source": [
    "age_outelier = df1.loc[(df1['Age']>=65)]\n",
    "age_outelier"
   ]
  },
  {
   "cell_type": "code",
   "execution_count": 30,
   "metadata": {},
   "outputs": [],
   "source": [
    "msk = (df1['Age'] >= 65)\n",
    "df1 = df1[~msk]"
   ]
  },
  {
   "cell_type": "code",
   "execution_count": 31,
   "metadata": {},
   "outputs": [],
   "source": [
    "objects = df1.select_dtypes('object')"
   ]
  },
  {
   "cell_type": "code",
   "execution_count": 32,
   "metadata": {},
   "outputs": [
    {
     "data": {
      "text/plain": [
       "0       Y\n",
       "1       Y\n",
       "2       Y\n",
       "5       N\n",
       "7       Y\n",
       "       ..\n",
       "8006    N\n",
       "8009    N\n",
       "8011    Y\n",
       "8015    N\n",
       "8041    N\n",
       "Name: Emp_Left, Length: 2764, dtype: object"
      ]
     },
     "execution_count": 32,
     "metadata": {},
     "output_type": "execute_result"
    }
   ],
   "source": [
    "df1['Emp_Left']"
   ]
  },
  {
   "cell_type": "code",
   "execution_count": 33,
   "metadata": {},
   "outputs": [
    {
     "data": {
      "text/plain": [
       "Emp_Left          0\n",
       "Dept_ID           0\n",
       "Age               0\n",
       "Desig_Id          0\n",
       "Marital_Status    0\n",
       "Gender            0\n",
       "State             1\n",
       "City              1\n",
       "Probation         0\n",
       "Basic_Salary      0\n",
       "Gross_Salary      9\n",
       "dtype: int64"
      ]
     },
     "execution_count": 33,
     "metadata": {},
     "output_type": "execute_result"
    }
   ],
   "source": [
    "# Target Col Emp_Left, Zip_code, Marital_Status, Gender, State, Induction_Training, Is_Piece_Trans_Salary , Date_Of_Join, EmpName_Alias_Salary\n",
    "\n",
    "df1.isnull().sum()"
   ]
  },
  {
   "cell_type": "code",
   "execution_count": 34,
   "metadata": {},
   "outputs": [
    {
     "name": "stderr",
     "output_type": "stream",
     "text": [
      "C:\\Users\\trainee\\AppData\\Local\\Temp\\ipykernel_11720\\222618438.py:2: FutureWarning: A value is trying to be set on a copy of a DataFrame or Series through chained assignment using an inplace method.\n",
      "The behavior will change in pandas 3.0. This inplace method will never work because the intermediate object on which we are setting values always behaves as a copy.\n",
      "\n",
      "For example, when doing 'df[col].method(value, inplace=True)', try using 'df.method({col: value}, inplace=True)' or df[col] = df[col].method(value) instead, to perform the operation inplace on the original object.\n",
      "\n",
      "\n",
      "  df1['Age'].fillna(df1['Age'].mean(), inplace=True)\n",
      "C:\\Users\\trainee\\AppData\\Local\\Temp\\ipykernel_11720\\222618438.py:2: SettingWithCopyWarning: \n",
      "A value is trying to be set on a copy of a slice from a DataFrame\n",
      "\n",
      "See the caveats in the documentation: https://pandas.pydata.org/pandas-docs/stable/user_guide/indexing.html#returning-a-view-versus-a-copy\n",
      "  df1['Age'].fillna(df1['Age'].mean(), inplace=True)\n",
      "C:\\Users\\trainee\\AppData\\Local\\Temp\\ipykernel_11720\\222618438.py:3: FutureWarning: A value is trying to be set on a copy of a DataFrame or Series through chained assignment using an inplace method.\n",
      "The behavior will change in pandas 3.0. This inplace method will never work because the intermediate object on which we are setting values always behaves as a copy.\n",
      "\n",
      "For example, when doing 'df[col].method(value, inplace=True)', try using 'df.method({col: value}, inplace=True)' or df[col] = df[col].method(value) instead, to perform the operation inplace on the original object.\n",
      "\n",
      "\n",
      "  df1['Gross_Salary'].fillna(df1['Gross_Salary'].mean(), inplace=True)\n",
      "C:\\Users\\trainee\\AppData\\Local\\Temp\\ipykernel_11720\\222618438.py:3: SettingWithCopyWarning: \n",
      "A value is trying to be set on a copy of a slice from a DataFrame\n",
      "\n",
      "See the caveats in the documentation: https://pandas.pydata.org/pandas-docs/stable/user_guide/indexing.html#returning-a-view-versus-a-copy\n",
      "  df1['Gross_Salary'].fillna(df1['Gross_Salary'].mean(), inplace=True)\n"
     ]
    }
   ],
   "source": [
    "# df1['Calculated_Day'] = df1['Calculated_Day'].fillna(0)\n",
    "df1['Age'].fillna(df1['Age'].mean(), inplace=True)\n",
    "df1['Gross_Salary'].fillna(df1['Gross_Salary'].mean(), inplace=True)\n",
    "df1 = df1[df1['State'].notna()]\n",
    "df1 = df1[df1['City'].notna()]"
   ]
  },
  {
   "cell_type": "code",
   "execution_count": 35,
   "metadata": {},
   "outputs": [
    {
     "data": {
      "text/plain": [
       "Emp_Left          0\n",
       "Dept_ID           0\n",
       "Age               0\n",
       "Desig_Id          0\n",
       "Marital_Status    0\n",
       "Gender            0\n",
       "State             0\n",
       "City              0\n",
       "Probation         0\n",
       "Basic_Salary      0\n",
       "Gross_Salary      0\n",
       "dtype: int64"
      ]
     },
     "execution_count": 35,
     "metadata": {},
     "output_type": "execute_result"
    }
   ],
   "source": [
    "df1.isnull().sum()"
   ]
  },
  {
   "cell_type": "code",
   "execution_count": 36,
   "metadata": {},
   "outputs": [
    {
     "name": "stdout",
     "output_type": "stream",
     "text": [
      "Emp_Left = ['Y' 'N']\n",
      "Marital_Status = ['1' '0' '2' '' '3' '11' '10' '9' '8' '7' '6' '5' '4']\n",
      "Gender = ['M' 'F']\n",
      "State = ['Karnataka' 'GUJARAT' 'Gujarat' '' 'WEST BENGAL' 'MAHARASHTRA'\n",
      " '<--SELECT-->' 'ASSAM' 'JHARKHAND' 'ORISSA' 'RAJASTHAN' 'gujrat'\n",
      " 'Maharashtra' 'Andhra Pradesh']\n",
      "City = ['aaaa' 'AHMEDABAD' '' 'GANDHINAGAR' 'BARODA' 'SURAT' 'GANDHINAGAGAR'\n",
      " 'ANAND' 'KAMRUP' 'SURENDRANAGAR' 'KHEDA' 'BARODA,' 'VADODARA' 'BHARUCH'\n",
      " 'SABARKANTHA' 'MEHSANA' 'AHMEDABADD' 'NADIAD' 'RAJKOT' 'GANJAM' 'NAVSARI'\n",
      " 'Vastral' 'Ahmedabad' 'Vadodara' 'memnagar' 'JUNAGADH' 'PANCHMAHAL'\n",
      " 'JAMNAGAR' 'KACHCHH' 'KUTCH' 'PANCHAMAHAL' 'PUNE' ',AHMEDABAD' 'VALSAD'\n",
      " 'KOLKATA' 'Aithor' 'test' 'vadodara' 'Mumbai' 'Ranchi' 'Bharuch'\n",
      " 'ahmedabad' 'Ahemdabad' 'NDD']\n"
     ]
    }
   ],
   "source": [
    "for cat in objects:\n",
    "    print(cat ,\"=\" , df1[cat].unique())"
   ]
  },
  {
   "cell_type": "code",
   "execution_count": 37,
   "metadata": {},
   "outputs": [
    {
     "data": {
      "text/plain": [
       "State\n",
       "                  1549\n",
       "GUJARAT           1025\n",
       "Gujarat            160\n",
       "MAHARASHTRA          9\n",
       "Maharashtra          6\n",
       "WEST BENGAL          4\n",
       "<--SELECT-->         3\n",
       "Karnataka            1\n",
       "ASSAM                1\n",
       "JHARKHAND            1\n",
       "ORISSA               1\n",
       "RAJASTHAN            1\n",
       "gujrat               1\n",
       "Andhra Pradesh       1\n",
       "Name: count, dtype: int64"
      ]
     },
     "execution_count": 37,
     "metadata": {},
     "output_type": "execute_result"
    }
   ],
   "source": [
    "df1['State'].value_counts()"
   ]
  },
  {
   "cell_type": "code",
   "execution_count": 38,
   "metadata": {},
   "outputs": [
    {
     "name": "stderr",
     "output_type": "stream",
     "text": [
      "C:\\Users\\trainee\\AppData\\Local\\Temp\\ipykernel_11720\\2632874883.py:2: FutureWarning: A value is trying to be set on a copy of a DataFrame or Series through chained assignment using an inplace method.\n",
      "The behavior will change in pandas 3.0. This inplace method will never work because the intermediate object on which we are setting values always behaves as a copy.\n",
      "\n",
      "For example, when doing 'df[col].method(value, inplace=True)', try using 'df.method({col: value}, inplace=True)' or df[col] = df[col].method(value) instead, to perform the operation inplace on the original object.\n",
      "\n",
      "\n",
      "  df1['State'].replace('', 'Unknown', inplace=True)\n",
      "C:\\Users\\trainee\\AppData\\Local\\Temp\\ipykernel_11720\\2632874883.py:3: FutureWarning: A value is trying to be set on a copy of a DataFrame or Series through chained assignment using an inplace method.\n",
      "The behavior will change in pandas 3.0. This inplace method will never work because the intermediate object on which we are setting values always behaves as a copy.\n",
      "\n",
      "For example, when doing 'df[col].method(value, inplace=True)', try using 'df.method({col: value}, inplace=True)' or df[col] = df[col].method(value) instead, to perform the operation inplace on the original object.\n",
      "\n",
      "\n",
      "  df1['State'].replace('<--SELECT-->', 'Unknown', inplace=True)\n"
     ]
    }
   ],
   "source": [
    "# Handle Null Value City and State\n",
    "df1['State'].replace('', 'Unknown', inplace=True)\n",
    "df1['State'].replace('<--SELECT-->', 'Unknown', inplace=True)\n"
   ]
  },
  {
   "cell_type": "code",
   "execution_count": 39,
   "metadata": {},
   "outputs": [
    {
     "data": {
      "text/plain": [
       "State\n",
       "Unknown           1552\n",
       "GUJARAT           1025\n",
       "Gujarat            160\n",
       "MAHARASHTRA          9\n",
       "Maharashtra          6\n",
       "WEST BENGAL          4\n",
       "Karnataka            1\n",
       "ASSAM                1\n",
       "JHARKHAND            1\n",
       "ORISSA               1\n",
       "RAJASTHAN            1\n",
       "gujrat               1\n",
       "Andhra Pradesh       1\n",
       "Name: count, dtype: int64"
      ]
     },
     "execution_count": 39,
     "metadata": {},
     "output_type": "execute_result"
    }
   ],
   "source": [
    "df1['State'].value_counts()"
   ]
  },
  {
   "cell_type": "code",
   "execution_count": 40,
   "metadata": {},
   "outputs": [
    {
     "name": "stderr",
     "output_type": "stream",
     "text": [
      "C:\\Users\\trainee\\AppData\\Local\\Temp\\ipykernel_11720\\1182226218.py:1: FutureWarning: A value is trying to be set on a copy of a DataFrame or Series through chained assignment using an inplace method.\n",
      "The behavior will change in pandas 3.0. This inplace method will never work because the intermediate object on which we are setting values always behaves as a copy.\n",
      "\n",
      "For example, when doing 'df[col].method(value, inplace=True)', try using 'df.method({col: value}, inplace=True)' or df[col] = df[col].method(value) instead, to perform the operation inplace on the original object.\n",
      "\n",
      "\n",
      "  df1['City'].replace('', 'Unknown', inplace=True)\n"
     ]
    }
   ],
   "source": [
    "df1['City'].replace('', 'Unknown', inplace=True)"
   ]
  },
  {
   "cell_type": "code",
   "execution_count": 41,
   "metadata": {},
   "outputs": [
    {
     "data": {
      "text/plain": [
       "City\n",
       "Unknown          1739\n",
       "AHMEDABAD         767\n",
       "BARODA             70\n",
       "SURAT              46\n",
       "GANDHINAGAR        25\n",
       "Ahmedabad          15\n",
       "KHEDA              13\n",
       "ANAND               9\n",
       "Vastral             9\n",
       "RAJKOT              7\n",
       "MEHSANA             7\n",
       "BARODA,             6\n",
       "Mumbai              6\n",
       "VADODARA            5\n",
       "BHARUCH             3\n",
       "SURENDRANAGAR       3\n",
       "NAVSARI             3\n",
       "SABARKANTHA         2\n",
       "JAMNAGAR            2\n",
       "PANCHMAHAL          2\n",
       "test                1\n",
       "VALSAD              1\n",
       "KOLKATA             1\n",
       "Aithor              1\n",
       "ahmedabad           1\n",
       "vadodara            1\n",
       "Ahemdabad           1\n",
       "Ranchi              1\n",
       "Bharuch             1\n",
       "PUNE                1\n",
       ",AHMEDABAD          1\n",
       "aaaa                1\n",
       "PANCHAMAHAL         1\n",
       "KUTCH               1\n",
       "KACHCHH             1\n",
       "JUNAGADH            1\n",
       "memnagar            1\n",
       "Vadodara            1\n",
       "GANJAM              1\n",
       "NADIAD              1\n",
       "AHMEDABADD          1\n",
       "KAMRUP              1\n",
       "GANDHINAGAGAR       1\n",
       "NDD                 1\n",
       "Name: count, dtype: int64"
      ]
     },
     "execution_count": 41,
     "metadata": {},
     "output_type": "execute_result"
    }
   ],
   "source": [
    "df1['City'].value_counts()"
   ]
  },
  {
   "cell_type": "code",
   "execution_count": 42,
   "metadata": {},
   "outputs": [
    {
     "name": "stdout",
     "output_type": "stream",
     "text": [
      "All columns Unique values count\n",
      "Emp_Left: 2\n",
      "Dept_ID: 30\n",
      "Age: 46\n",
      "Desig_Id: 37\n",
      "Marital_Status: 13\n",
      "Gender: 2\n",
      "State: 13\n",
      "City: 44\n",
      "Probation: 6\n",
      "Basic_Salary: 164\n",
      "Gross_Salary: 1091\n"
     ]
    }
   ],
   "source": [
    "print(\"All columns Unique values count\")\n",
    "for col in df1:\n",
    "    print(col, len(df1[col].unique()), sep=': ')"
   ]
  },
  {
   "cell_type": "code",
   "execution_count": 43,
   "metadata": {},
   "outputs": [
    {
     "data": {
      "image/png": "[encoded data removed]",
      "text/plain": [
       "<Figure size 1400x500 with 1 Axes>"
      ]
     },
     "metadata": {},
     "output_type": "display_data"
    }
   ],
   "source": [
    "plt.figure(figsize=(14, 5))\n",
    "plt.boxplot( x=df[\"Age\"]) \n",
    "plt.show()"
   ]
  },
  {
   "cell_type": "code",
   "execution_count": 44,
   "metadata": {},
   "outputs": [
    {
     "data": {
      "image/png": "[encoded data removed]",
      "text/plain": [
       "<Figure size 2000x500 with 1 Axes>"
      ]
     },
     "metadata": {},
     "output_type": "display_data"
    }
   ],
   "source": [
    "plt.figure(figsize=(20, 5))\n",
    "sns.boxplot(y=df1[\"Marital_Status\"], x=df1[\"Age\"]) \n",
    "plt.show()"
   ]
  },
  {
   "cell_type": "code",
   "execution_count": 45,
   "metadata": {},
   "outputs": [
    {
     "data": {
      "image/png": "[encoded data removed]",
      "text/plain": [
       "<Figure size 2000x1000 with 1 Axes>"
      ]
     },
     "metadata": {},
     "output_type": "display_data"
    }
   ],
   "source": [
    "plt.figure(figsize=(20, 10))\n",
    "sns.boxplot(y=df1[\"Age\"], x=df1[\"Dept_ID\"]) \n",
    "plt.show()"
   ]
  },
  {
   "cell_type": "code",
   "execution_count": 46,
   "metadata": {},
   "outputs": [
    {
     "data": {
      "image/png": "[encoded data removed]",
      "text/plain": [
       "<Figure size 1400x500 with 2 Axes>"
      ]
     },
     "metadata": {},
     "output_type": "display_data"
    }
   ],
   "source": [
    "plt.figure(figsize=(14, 5))\n",
    "\n",
    "plt.subplot(1, 2, 1)\n",
    "sns.countplot(x='Dept_ID', hue='Emp_Left', data=df1, palette='Set2')\n",
    "plt.title('Attrition by Dept ID')\n",
    "\n",
    "plt.subplot(1, 2, 2)\n",
    "plt.pie(df1['Emp_Left'].value_counts(), colors=['lightcoral', 'lightcyan'], explode=[0, 0.1], autopct='%.2f', labels=['No', 'Yes'])\n",
    "plt.title('Emp_Left')\n",
    "\n",
    "plt.show()"
   ]
  },
  {
   "cell_type": "code",
   "execution_count": 47,
   "metadata": {},
   "outputs": [
    {
     "data": {
      "image/png": "[encoded data removed]",
      "text/plain": [
       "<Figure size 1400x500 with 2 Axes>"
      ]
     },
     "metadata": {},
     "output_type": "display_data"
    }
   ],
   "source": [
    "plt.figure(figsize=(14, 5))\n",
    "\n",
    "plt.subplot(1, 2, 1)\n",
    "sns.countplot(x='Emp_Left', hue='Gender', data=df1, palette='Set2')\n",
    "plt.title('Attrition by Gender')\n",
    "\n",
    "plt.subplot(1, 2, 2)\n",
    "plt.pie(df1['Gender'].value_counts(), colors=['lightcoral', 'lightcyan'], explode=[0, 0.1], autopct='%.2f', labels=['M', 'F'])\n",
    "plt.title('Gender')\n",
    "\n",
    "plt.show()"
   ]
  },
  {
   "cell_type": "code",
   "execution_count": 48,
   "metadata": {},
   "outputs": [
    {
     "data": {
      "image/png": "[encoded data removed]",
      "text/plain": [
       "<Figure size 2500x500 with 2 Axes>"
      ]
     },
     "metadata": {},
     "output_type": "display_data"
    }
   ],
   "source": [
    "plt.figure(figsize=(25, 5))\n",
    "\n",
    "plt.subplot(1, 2, 1)\n",
    "sns.countplot(x='Desig_Id', hue='Emp_Left', data=df1, palette='Set2')\n",
    "plt.title('Attrition by Desig_id')\n",
    "\n",
    "plt.subplot(1, 2, 2)\n",
    "plt.pie(df1['Emp_Left'].value_counts(), colors=['lightcoral', 'lightcyan'], explode=[0, 0.1], autopct='%.2f', labels=['No', 'Yes'])\n",
    "plt.title('Emp_Left')\n",
    "\n",
    "plt.show()"
   ]
  },
  {
   "cell_type": "code",
   "execution_count": 49,
   "metadata": {},
   "outputs": [
    {
     "name": "stderr",
     "output_type": "stream",
     "text": [
      "C:\\Users\\trainee\\AppData\\Local\\Temp\\ipykernel_11720\\4091853207.py:3: FutureWarning: \n",
      "\n",
      "Passing `palette` without assigning `hue` is deprecated and will be removed in v0.14.0. Assign the `x` variable to `hue` and set `legend=False` for the same effect.\n",
      "\n",
      "  sns.countplot(x=df1['Age'] ,data = df1 ,palette='winter_r')\n"
     ]
    },
    {
     "data": {
      "text/plain": [
       "<Axes: xlabel='Age', ylabel='count'>"
      ]
     },
     "execution_count": 49,
     "metadata": {},
     "output_type": "execute_result"
    },
    {
     "data": {
      "image/png": "[encoded data removed]",
      "text/plain": [
       "<Figure size 1400x1300 with 2 Axes>"
      ]
     },
     "metadata": {},
     "output_type": "display_data"
    }
   ],
   "source": [
    "\n",
    "plt.figure(figsize = (14 , 13))\n",
    "plt.subplot(2 ,1,1)\n",
    "sns.countplot(x=df1['Age'] ,data = df1 ,palette='winter_r')\n",
    "plt.title('Age')\n",
    "plt.subplot(2,1,2)\n",
    "sns.countplot(x='Age' ,data = df1 ,palette='winter_r'  ,hue ='Emp_Left')"
   ]
  },
  {
   "cell_type": "code",
   "execution_count": 50,
   "metadata": {},
   "outputs": [
    {
     "name": "stderr",
     "output_type": "stream",
     "text": [
      "C:\\Users\\trainee\\AppData\\Local\\Temp\\ipykernel_11720\\2634415531.py:3: FutureWarning: \n",
      "\n",
      "Passing `palette` without assigning `hue` is deprecated and will be removed in v0.14.0. Assign the `y` variable to `hue` and set `legend=False` for the same effect.\n",
      "\n",
      "  sns.countplot(y='Dept_ID' ,data = df1 ,palette='winter_r')\n"
     ]
    },
    {
     "data": {
      "text/plain": [
       "<Axes: xlabel='count', ylabel='Dept_ID'>"
      ]
     },
     "execution_count": 50,
     "metadata": {},
     "output_type": "execute_result"
    },
    {
     "data": {
      "image/png": "[encoded data removed]",
      "text/plain": [
       "<Figure size 2000x1600 with 2 Axes>"
      ]
     },
     "metadata": {},
     "output_type": "display_data"
    }
   ],
   "source": [
    "plt.figure(figsize = (20 , 16))\n",
    "plt.subplot(2 ,1,1)\n",
    "sns.countplot(y='Dept_ID' ,data = df1 ,palette='winter_r')\n",
    "plt.title('Department Id')\n",
    "plt.subplot(2,1,2)\n",
    "sns.countplot(y='Dept_ID' ,data = df1 ,palette='winter_r'  ,hue =df1['Emp_Left'])"
   ]
  },
  {
   "cell_type": "code",
   "execution_count": 51,
   "metadata": {},
   "outputs": [
    {
     "name": "stderr",
     "output_type": "stream",
     "text": [
      "C:\\Users\\trainee\\AppData\\Local\\Temp\\ipykernel_11720\\1403729937.py:3: FutureWarning: \n",
      "\n",
      "Passing `palette` without assigning `hue` is deprecated and will be removed in v0.14.0. Assign the `y` variable to `hue` and set `legend=False` for the same effect.\n",
      "\n",
      "  sns.countplot(y='Desig_Id' ,data = df1 ,palette='winter_r')\n"
     ]
    },
    {
     "data": {
      "text/plain": [
       "<Axes: xlabel='count', ylabel='Desig_Id'>"
      ]
     },
     "execution_count": 51,
     "metadata": {},
     "output_type": "execute_result"
    },
    {
     "data": {
      "image/png": "[encoded data removed]",
      "text/plain": [
       "<Figure size 2000x1600 with 2 Axes>"
      ]
     },
     "metadata": {},
     "output_type": "display_data"
    }
   ],
   "source": [
    "plt.figure(figsize = (20 , 16))\n",
    "plt.subplot(2 ,1,1)\n",
    "sns.countplot(y='Desig_Id' ,data = df1 ,palette='winter_r')\n",
    "plt.title('Department Id')\n",
    "plt.subplot(2,1,2)\n",
    "sns.countplot(y='Desig_Id' ,data = df1 ,palette='winter_r'  ,hue =df1['Emp_Left'])"
   ]
  },
  {
   "cell_type": "code",
   "execution_count": 52,
   "metadata": {},
   "outputs": [
    {
     "name": "stderr",
     "output_type": "stream",
     "text": [
      "C:\\Users\\trainee\\AppData\\Local\\Temp\\ipykernel_11720\\581775845.py:2: FutureWarning: A value is trying to be set on a copy of a DataFrame or Series through chained assignment using an inplace method.\n",
      "The behavior will change in pandas 3.0. This inplace method will never work because the intermediate object on which we are setting values always behaves as a copy.\n",
      "\n",
      "For example, when doing 'df[col].method(value, inplace=True)', try using 'df.method({col: value}, inplace=True)' or df[col] = df[col].method(value) instead, to perform the operation inplace on the original object.\n",
      "\n",
      "\n",
      "  df1['Emp_Left'].replace({'Y':1 ,'N':0} ,inplace = True)\n",
      "C:\\Users\\trainee\\AppData\\Local\\Temp\\ipykernel_11720\\581775845.py:2: FutureWarning: Downcasting behavior in `replace` is deprecated and will be removed in a future version. To retain the old behavior, explicitly call `result.infer_objects(copy=False)`. To opt-in to the future behavior, set `pd.set_option('future.no_silent_downcasting', True)`\n",
      "  df1['Emp_Left'].replace({'Y':1 ,'N':0} ,inplace = True)\n"
     ]
    },
    {
     "data": {
      "text/plain": [
       "0    1\n",
       "1    1\n",
       "2    1\n",
       "5    0\n",
       "7    1\n",
       "Name: Emp_Left, dtype: int64"
      ]
     },
     "execution_count": 52,
     "metadata": {},
     "output_type": "execute_result"
    }
   ],
   "source": [
    "#HANDLING CATEGORICAL OUTPUT VARIABLE\n",
    "df1['Emp_Left'].replace({'Y':1 ,'N':0} ,inplace = True)\n",
    "df1['Emp_Left'].head()"
   ]
  },
  {
   "cell_type": "code",
   "execution_count": 53,
   "metadata": {},
   "outputs": [
    {
     "data": {
      "image/png": "[encoded data removed]",
      "text/plain": [
       "<Figure size 4000x600 with 1 Axes>"
      ]
     },
     "metadata": {},
     "output_type": "display_data"
    }
   ],
   "source": [
    "plt.figure(figsize=(40, 6))\n",
    "\n",
    "plt.subplot(1, 2, 1)\n",
    "sns.countplot(x='Age', hue='Emp_Left', data=df1, palette='gist_rainbow_r')\n",
    "plt.title('Attrition by Age')\n",
    "\n",
    "plt.show()\n",
    "\n"
   ]
  },
  {
   "cell_type": "code",
   "execution_count": 54,
   "metadata": {},
   "outputs": [
    {
     "name": "stdout",
     "output_type": "stream",
     "text": [
      "<class 'pandas.core.frame.DataFrame'>\n",
      "Index: 2763 entries, 0 to 8041\n",
      "Data columns (total 11 columns):\n",
      " #   Column          Non-Null Count  Dtype  \n",
      "---  ------          --------------  -----  \n",
      " 0   Emp_Left        2763 non-null   int64  \n",
      " 1   Dept_ID         2763 non-null   float64\n",
      " 2   Age             2763 non-null   int64  \n",
      " 3   Desig_Id        2763 non-null   float64\n",
      " 4   Marital_Status  2763 non-null   object \n",
      " 5   Gender          2763 non-null   object \n",
      " 6   State           2763 non-null   object \n",
      " 7   City            2763 non-null   object \n",
      " 8   Probation       2763 non-null   float64\n",
      " 9   Basic_Salary    2763 non-null   float64\n",
      " 10  Gross_Salary    2763 non-null   float64\n",
      "dtypes: float64(5), int64(2), object(4)\n",
      "memory usage: 259.0+ KB\n"
     ]
    }
   ],
   "source": [
    "df1.info()"
   ]
  },
  {
   "cell_type": "code",
   "execution_count": 55,
   "metadata": {},
   "outputs": [],
   "source": [
    "#REMOVING IRRELEVANT FEATURES\n",
    "# no1_use = []\n",
    "# for col in df1.columns:\n",
    "#     if(len(df1[col].unique()) ==1):\n",
    "#         no1_use.append(col)\n",
    "\n",
    "# no1_use"
   ]
  },
  {
   "cell_type": "code",
   "execution_count": 56,
   "metadata": {},
   "outputs": [],
   "source": [
    "# df.drop(columns = no1_use , axis = 1 , inplace = True)"
   ]
  },
  {
   "cell_type": "code",
   "execution_count": 57,
   "metadata": {},
   "outputs": [
    {
     "data": {
      "text/plain": [
       "<Axes: >"
      ]
     },
     "execution_count": 57,
     "metadata": {},
     "output_type": "execute_result"
    },
    {
     "data": {
      "image/png": "[encoded data removed]",
      "text/plain": [
       "<Figure size 1600x1600 with 2 Axes>"
      ]
     },
     "metadata": {},
     "output_type": "display_data"
    }
   ],
   "source": [
    "plt.figure(figsize = (16 ,16))\n",
    "df_num = df1.select_dtypes(include=['float64','int64'])\n",
    "sns.heatmap(df_num.corr() ,cmap = 'ocean' , cbar = True , annot = True)"
   ]
  },
  {
   "cell_type": "code",
   "execution_count": 58,
   "metadata": {},
   "outputs": [],
   "source": [
    "#REMOVING IRRELEVANT FEATURES\n",
    "# no_use = []\n",
    "# for col in df1.columns:\n",
    "#     if(len(df1[col].unique()) ==1):\n",
    "#         no_use.append(col)\n",
    "\n",
    "# no_use"
   ]
  },
  {
   "cell_type": "code",
   "execution_count": 59,
   "metadata": {},
   "outputs": [],
   "source": [
    "# df1.drop(columns = no_use , axis = 1 , inplace = True)"
   ]
  },
  {
   "cell_type": "markdown",
   "metadata": {},
   "source": []
  },
  {
   "cell_type": "code",
   "execution_count": 60,
   "metadata": {},
   "outputs": [
    {
     "data": {
      "text/plain": [
       "Index(['Marital_Status', 'Gender', 'State', 'City'], dtype='object')"
      ]
     },
     "execution_count": 60,
     "metadata": {},
     "output_type": "execute_result"
    }
   ],
   "source": [
    "others = df1.select_dtypes('object').columns\n",
    "others"
   ]
  },
  {
   "cell_type": "code",
   "execution_count": 61,
   "metadata": {},
   "outputs": [],
   "source": [
    "#FEATURE EGNGG\n",
    "from sklearn.preprocessing import LabelEncoder"
   ]
  },
  {
   "cell_type": "code",
   "execution_count": 62,
   "metadata": {},
   "outputs": [],
   "source": [
    "le = LabelEncoder()\n",
    "for col in others:\n",
    "    df1[col] = le.fit_transform(df1[col])"
   ]
  },
  {
   "cell_type": "markdown",
   "metadata": {},
   "source": [
    "absorve unbalanced dataset"
   ]
  },
  {
   "cell_type": "code",
   "execution_count": 63,
   "metadata": {},
   "outputs": [],
   "source": [
    "# def timedelta_to_months(td):\n",
    "#     return td.days / 30.44"
   ]
  },
  {
   "cell_type": "code",
   "execution_count": 64,
   "metadata": {},
   "outputs": [
    {
     "name": "stdout",
     "output_type": "stream",
     "text": [
      "(2763, 10) (2763,)\n"
     ]
    }
   ],
   "source": [
    "x = df1.drop('Emp_Left' , axis =1)\n",
    "y = df1['Emp_Left']\n",
    "\n",
    "print(x.shape ,y.shape)"
   ]
  },
  {
   "cell_type": "code",
   "execution_count": 65,
   "metadata": {},
   "outputs": [
    {
     "name": "stdout",
     "output_type": "stream",
     "text": [
      "<class 'pandas.core.frame.DataFrame'>\n",
      "Index: 2763 entries, 0 to 8041\n",
      "Data columns (total 10 columns):\n",
      " #   Column          Non-Null Count  Dtype  \n",
      "---  ------          --------------  -----  \n",
      " 0   Dept_ID         2763 non-null   float64\n",
      " 1   Age             2763 non-null   int64  \n",
      " 2   Desig_Id        2763 non-null   float64\n",
      " 3   Marital_Status  2763 non-null   int32  \n",
      " 4   Gender          2763 non-null   int32  \n",
      " 5   State           2763 non-null   int32  \n",
      " 6   City            2763 non-null   int32  \n",
      " 7   Probation       2763 non-null   float64\n",
      " 8   Basic_Salary    2763 non-null   float64\n",
      " 9   Gross_Salary    2763 non-null   float64\n",
      "dtypes: float64(5), int32(4), int64(1)\n",
      "memory usage: 194.3 KB\n"
     ]
    }
   ],
   "source": [
    "x.info()"
   ]
  },
  {
   "cell_type": "code",
   "execution_count": 66,
   "metadata": {},
   "outputs": [
    {
     "data": {
      "text/plain": [
       "Dept_ID           0\n",
       "Age               0\n",
       "Desig_Id          0\n",
       "Marital_Status    0\n",
       "Gender            0\n",
       "State             0\n",
       "City              0\n",
       "Probation         0\n",
       "Basic_Salary      0\n",
       "Gross_Salary      0\n",
       "dtype: int64"
      ]
     },
     "execution_count": 66,
     "metadata": {},
     "output_type": "execute_result"
    }
   ],
   "source": [
    "x.isnull().sum()"
   ]
  },
  {
   "cell_type": "code",
   "execution_count": 67,
   "metadata": {},
   "outputs": [
    {
     "data": {
      "text/plain": [
       "Emp_Left\n",
       "0    170.748299\n",
       "1     17.210884\n",
       "Name: count, dtype: float64"
      ]
     },
     "execution_count": 67,
     "metadata": {},
     "output_type": "execute_result"
    }
   ],
   "source": [
    "(df1.Emp_Left.value_counts()/1470)*100"
   ]
  },
  {
   "cell_type": "code",
   "execution_count": 68,
   "metadata": {},
   "outputs": [
    {
     "name": "stdout",
     "output_type": "stream",
     "text": [
      "      Emp_Left  Dept_ID  Age  Desig_Id  Marital_Status  Gender  State  City  \\\n",
      "0            1    303.0   36     604.0               2       1      5    39   \n",
      "1            1    303.0   41     616.0               2       1      2     1   \n",
      "2            1    303.0   34     616.0               1       1      3     1   \n",
      "5            0    305.0   33     615.0               1       1      2     1   \n",
      "7            1    306.0   36     618.0               1       1      2     1   \n",
      "...        ...      ...  ...       ...             ...     ...    ...   ...   \n",
      "8006         0    313.0   34     659.0               1       1     10    34   \n",
      "8009         0    313.0   34     659.0               1       1     10    34   \n",
      "8011         1    313.0   34     659.0               1       1     10    34   \n",
      "8015         0    313.0   34     659.0               1       1     10    34   \n",
      "8041         0    327.0   26    1445.0               1       1      1    25   \n",
      "\n",
      "      Probation  Basic_Salary  Gross_Salary  \n",
      "0           0.0       30000.0      50751.00  \n",
      "1           0.0       30000.0      24557.00  \n",
      "2           0.0       30000.0      50851.00  \n",
      "5           0.0       30000.0      49871.00  \n",
      "7           0.0       30000.0      49871.00  \n",
      "...         ...           ...           ...  \n",
      "8006        0.0       19000.0      28600.00  \n",
      "8009        0.0       17500.0      26500.00  \n",
      "8011        0.0       19000.0      28600.00  \n",
      "8015        0.0        9300.0      75020.00  \n",
      "8041        0.0        4000.0      13349.41  \n",
      "\n",
      "[2763 rows x 11 columns]\n"
     ]
    }
   ],
   "source": [
    "\n",
    "print(df1)"
   ]
  },
  {
   "cell_type": "code",
   "execution_count": 69,
   "metadata": {},
   "outputs": [
    {
     "name": "stdout",
     "output_type": "stream",
     "text": [
      "<class 'pandas.core.frame.DataFrame'>\n",
      "Index: 2763 entries, 0 to 8041\n",
      "Data columns (total 11 columns):\n",
      " #   Column          Non-Null Count  Dtype  \n",
      "---  ------          --------------  -----  \n",
      " 0   Emp_Left        2763 non-null   int64  \n",
      " 1   Dept_ID         2763 non-null   float64\n",
      " 2   Age             2763 non-null   int64  \n",
      " 3   Desig_Id        2763 non-null   float64\n",
      " 4   Marital_Status  2763 non-null   int32  \n",
      " 5   Gender          2763 non-null   int32  \n",
      " 6   State           2763 non-null   int32  \n",
      " 7   City            2763 non-null   int32  \n",
      " 8   Probation       2763 non-null   float64\n",
      " 9   Basic_Salary    2763 non-null   float64\n",
      " 10  Gross_Salary    2763 non-null   float64\n",
      "dtypes: float64(5), int32(4), int64(2)\n",
      "memory usage: 215.9 KB\n"
     ]
    }
   ],
   "source": [
    "df1.info()"
   ]
  },
  {
   "cell_type": "code",
   "execution_count": 70,
   "metadata": {},
   "outputs": [
    {
     "name": "stdout",
     "output_type": "stream",
     "text": [
      "(5020, 10) (5020,)\n"
     ]
    }
   ],
   "source": [
    "from imblearn.over_sampling import SMOTE\n",
    "smote = SMOTE(sampling_strategy='minority')\n",
    "x ,y = smote.fit_resample(x ,y)\n",
    "print(x.shape ,y.shape)"
   ]
  },
  {
   "cell_type": "code",
   "execution_count": 71,
   "metadata": {},
   "outputs": [
    {
     "name": "stderr",
     "output_type": "stream",
     "text": [
      "C:\\Users\\trainee\\AppData\\Local\\Temp\\ipykernel_11720\\1834671210.py:2: FutureWarning: \n",
      "\n",
      "Passing `palette` without assigning `hue` is deprecated and will be removed in v0.14.0. Assign the `x` variable to `hue` and set `legend=False` for the same effect.\n",
      "\n",
      "  sns.countplot(y ,palette='viridis')\n"
     ]
    },
    {
     "data": {
      "text/plain": [
       "Text(0.5, 1.0, 'Now Class is Balanced')"
      ]
     },
     "execution_count": 71,
     "metadata": {},
     "output_type": "execute_result"
    },
    {
     "data": {
      "image/png": "[encoded data removed]",
      "text/plain": [
       "<Figure size 640x480 with 1 Axes>"
      ]
     },
     "metadata": {},
     "output_type": "display_data"
    }
   ],
   "source": [
    "y.value_counts()\n",
    "sns.countplot(y ,palette='viridis')\n",
    "plt.title('Now Class is Balanced')"
   ]
  },
  {
   "cell_type": "code",
   "execution_count": 72,
   "metadata": {},
   "outputs": [],
   "source": [
    "from sklearn.model_selection import train_test_split\n",
    "\n",
    "# Assuming your dataset is stored in X and y\n",
    "# X should contain your features, and y should contain your labels\n",
    "\n",
    "# Splitting the data into training and temporary data (temp_data)\n",
    "x_train, x_temp, y_train, y_temp = train_test_split(x, y, test_size=0.2, random_state=42)\n",
    "\n",
    "# Splitting the temporary data (temp_data) into validation and testing data\n",
    "x_valid, x_test, y_valid, y_test = train_test_split(x_temp, y_temp, test_size=0.5, random_state=42)\n",
    "\n",
    "# Now you have three sets: X_train, y_train for training, X_valid, y_valid for validation, and X_test, y_test for testing"
   ]
  },
  {
   "cell_type": "code",
   "execution_count": 73,
   "metadata": {},
   "outputs": [],
   "source": [
    "# from sklearn.model_selection import train_test_split\n",
    "\n",
    "# x_train , x_test , y_train ,y_test = train_test_split(x , y, test_size=0.2 , random_state= 52)\n",
    "# print(x_train.shape)"
   ]
  },
  {
   "cell_type": "code",
   "execution_count": 74,
   "metadata": {},
   "outputs": [
    {
     "data": {
      "text/html": [
       "<div>\n",
       "<style scoped>\n",
       "    .dataframe tbody tr th:only-of-type {\n",
       "        vertical-align: middle;\n",
       "    }\n",
       "\n",
       "    .dataframe tbody tr th {\n",
       "        vertical-align: top;\n",
       "    }\n",
       "\n",
       "    .dataframe thead th {\n",
       "        text-align: right;\n",
       "    }\n",
       "</style>\n",
       "<table border=\"1\" class=\"dataframe\">\n",
       "  <thead>\n",
       "    <tr style=\"text-align: right;\">\n",
       "      <th></th>\n",
       "      <th>Dept_ID</th>\n",
       "      <th>Age</th>\n",
       "      <th>Desig_Id</th>\n",
       "      <th>Marital_Status</th>\n",
       "      <th>Gender</th>\n",
       "      <th>State</th>\n",
       "      <th>City</th>\n",
       "      <th>Probation</th>\n",
       "      <th>Basic_Salary</th>\n",
       "      <th>Gross_Salary</th>\n",
       "    </tr>\n",
       "  </thead>\n",
       "  <tbody>\n",
       "    <tr>\n",
       "      <th>1835</th>\n",
       "      <td>306.000000</td>\n",
       "      <td>58</td>\n",
       "      <td>616.000000</td>\n",
       "      <td>2</td>\n",
       "      <td>1</td>\n",
       "      <td>6</td>\n",
       "      <td>34</td>\n",
       "      <td>0.0</td>\n",
       "      <td>29000.000000</td>\n",
       "      <td>7492.160000</td>\n",
       "    </tr>\n",
       "    <tr>\n",
       "      <th>4529</th>\n",
       "      <td>303.000000</td>\n",
       "      <td>33</td>\n",
       "      <td>614.738530</td>\n",
       "      <td>1</td>\n",
       "      <td>1</td>\n",
       "      <td>10</td>\n",
       "      <td>34</td>\n",
       "      <td>0.0</td>\n",
       "      <td>5052.294066</td>\n",
       "      <td>3267.685587</td>\n",
       "    </tr>\n",
       "    <tr>\n",
       "      <th>2117</th>\n",
       "      <td>303.000000</td>\n",
       "      <td>34</td>\n",
       "      <td>610.000000</td>\n",
       "      <td>1</td>\n",
       "      <td>1</td>\n",
       "      <td>10</td>\n",
       "      <td>34</td>\n",
       "      <td>0.0</td>\n",
       "      <td>12000.000000</td>\n",
       "      <td>27950.000000</td>\n",
       "    </tr>\n",
       "    <tr>\n",
       "      <th>733</th>\n",
       "      <td>305.000000</td>\n",
       "      <td>49</td>\n",
       "      <td>657.000000</td>\n",
       "      <td>2</td>\n",
       "      <td>1</td>\n",
       "      <td>2</td>\n",
       "      <td>1</td>\n",
       "      <td>0.0</td>\n",
       "      <td>10850.000000</td>\n",
       "      <td>11960.000000</td>\n",
       "    </tr>\n",
       "    <tr>\n",
       "      <th>393</th>\n",
       "      <td>303.000000</td>\n",
       "      <td>36</td>\n",
       "      <td>610.000000</td>\n",
       "      <td>1</td>\n",
       "      <td>1</td>\n",
       "      <td>10</td>\n",
       "      <td>34</td>\n",
       "      <td>0.0</td>\n",
       "      <td>15000.000000</td>\n",
       "      <td>22400.000000</td>\n",
       "    </tr>\n",
       "    <tr>\n",
       "      <th>...</th>\n",
       "      <td>...</td>\n",
       "      <td>...</td>\n",
       "      <td>...</td>\n",
       "      <td>...</td>\n",
       "      <td>...</td>\n",
       "      <td>...</td>\n",
       "      <td>...</td>\n",
       "      <td>...</td>\n",
       "      <td>...</td>\n",
       "      <td>...</td>\n",
       "    </tr>\n",
       "    <tr>\n",
       "      <th>1444</th>\n",
       "      <td>303.000000</td>\n",
       "      <td>34</td>\n",
       "      <td>610.000000</td>\n",
       "      <td>1</td>\n",
       "      <td>1</td>\n",
       "      <td>10</td>\n",
       "      <td>34</td>\n",
       "      <td>0.0</td>\n",
       "      <td>15000.000000</td>\n",
       "      <td>0.000000</td>\n",
       "    </tr>\n",
       "    <tr>\n",
       "      <th>109</th>\n",
       "      <td>303.000000</td>\n",
       "      <td>36</td>\n",
       "      <td>610.000000</td>\n",
       "      <td>1</td>\n",
       "      <td>1</td>\n",
       "      <td>2</td>\n",
       "      <td>34</td>\n",
       "      <td>0.0</td>\n",
       "      <td>30000.000000</td>\n",
       "      <td>50751.000000</td>\n",
       "    </tr>\n",
       "    <tr>\n",
       "      <th>1614</th>\n",
       "      <td>303.000000</td>\n",
       "      <td>35</td>\n",
       "      <td>610.000000</td>\n",
       "      <td>1</td>\n",
       "      <td>0</td>\n",
       "      <td>10</td>\n",
       "      <td>34</td>\n",
       "      <td>0.0</td>\n",
       "      <td>15000.000000</td>\n",
       "      <td>19332.000000</td>\n",
       "    </tr>\n",
       "    <tr>\n",
       "      <th>4225</th>\n",
       "      <td>308.683816</td>\n",
       "      <td>34</td>\n",
       "      <td>889.643739</td>\n",
       "      <td>1</td>\n",
       "      <td>1</td>\n",
       "      <td>10</td>\n",
       "      <td>34</td>\n",
       "      <td>0.0</td>\n",
       "      <td>18317.942100</td>\n",
       "      <td>26595.422951</td>\n",
       "    </tr>\n",
       "    <tr>\n",
       "      <th>3453</th>\n",
       "      <td>303.000000</td>\n",
       "      <td>36</td>\n",
       "      <td>614.516190</td>\n",
       "      <td>1</td>\n",
       "      <td>1</td>\n",
       "      <td>10</td>\n",
       "      <td>34</td>\n",
       "      <td>0.0</td>\n",
       "      <td>20000.000000</td>\n",
       "      <td>46940.508468</td>\n",
       "    </tr>\n",
       "  </tbody>\n",
       "</table>\n",
       "<p>502 rows × 10 columns</p>\n",
       "</div>"
      ],
      "text/plain": [
       "         Dept_ID  Age    Desig_Id  Marital_Status  Gender  State  City  \\\n",
       "1835  306.000000   58  616.000000               2       1      6    34   \n",
       "4529  303.000000   33  614.738530               1       1     10    34   \n",
       "2117  303.000000   34  610.000000               1       1     10    34   \n",
       "733   305.000000   49  657.000000               2       1      2     1   \n",
       "393   303.000000   36  610.000000               1       1     10    34   \n",
       "...          ...  ...         ...             ...     ...    ...   ...   \n",
       "1444  303.000000   34  610.000000               1       1     10    34   \n",
       "109   303.000000   36  610.000000               1       1      2    34   \n",
       "1614  303.000000   35  610.000000               1       0     10    34   \n",
       "4225  308.683816   34  889.643739               1       1     10    34   \n",
       "3453  303.000000   36  614.516190               1       1     10    34   \n",
       "\n",
       "      Probation  Basic_Salary  Gross_Salary  \n",
       "1835        0.0  29000.000000   7492.160000  \n",
       "4529        0.0   5052.294066   3267.685587  \n",
       "2117        0.0  12000.000000  27950.000000  \n",
       "733         0.0  10850.000000  11960.000000  \n",
       "393         0.0  15000.000000  22400.000000  \n",
       "...         ...           ...           ...  \n",
       "1444        0.0  15000.000000      0.000000  \n",
       "109         0.0  30000.000000  50751.000000  \n",
       "1614        0.0  15000.000000  19332.000000  \n",
       "4225        0.0  18317.942100  26595.422951  \n",
       "3453        0.0  20000.000000  46940.508468  \n",
       "\n",
       "[502 rows x 10 columns]"
      ]
     },
     "execution_count": 74,
     "metadata": {},
     "output_type": "execute_result"
    }
   ],
   "source": [
    "x_test"
   ]
  },
  {
   "cell_type": "code",
   "execution_count": 75,
   "metadata": {},
   "outputs": [],
   "source": [
    "# saving the dataframe\n",
    "# x_test[230:].to_csv('encoded.csv', index=False)"
   ]
  },
  {
   "cell_type": "code",
   "execution_count": 76,
   "metadata": {},
   "outputs": [
    {
     "data": {
      "text/plain": [
       "(502, 10)"
      ]
     },
     "execution_count": 76,
     "metadata": {},
     "output_type": "execute_result"
    }
   ],
   "source": [
    "x_test.shape"
   ]
  },
  {
   "cell_type": "code",
   "execution_count": 77,
   "metadata": {},
   "outputs": [
    {
     "data": {
      "text/plain": [
       "array([[-0.20903627,  1.36921255, -0.32972484, ..., -0.0629189 ,\n",
       "         0.26373096,  0.40352198],\n",
       "       [-0.20903627, -0.46288041, -0.32972484, ..., -0.0629189 ,\n",
       "         0.99621942, -0.26882277],\n",
       "       [ 0.01411389, -1.75612251,  2.40839828, ..., -0.0629189 ,\n",
       "        -0.40291874, -0.39895189],\n",
       "       ...,\n",
       "       [-0.02861951, -0.46288041, -0.01711744, ..., -0.0629189 ,\n",
       "        -0.26366074, -0.18863644],\n",
       "       [ 0.08117036, -0.57065059, -0.20687166, ..., -0.0629189 ,\n",
       "        -0.17576212, -0.47080893],\n",
       "       [-0.20903627,  1.69252308, -0.32972484, ..., -0.0629189 ,\n",
       "        -0.02926443,  0.03157352]])"
      ]
     },
     "execution_count": 77,
     "metadata": {},
     "output_type": "execute_result"
    }
   ],
   "source": [
    "#scaling the data\n",
    "from sklearn.preprocessing import StandardScaler\n",
    "sc = StandardScaler()\n",
    "x_train = sc.fit_transform(x_train)\n",
    "x_test = sc.transform(x_test) \n",
    "x_valid = sc.transform(x_valid)\n",
    "x_train"
   ]
  },
  {
   "cell_type": "code",
   "execution_count": 78,
   "metadata": {},
   "outputs": [
    {
     "data": {
      "text/plain": [
       "array([[-0.12012091,  2.12360377, -0.26684186, ..., -0.0629189 ,\n",
       "         0.23443142, -0.43621721],\n",
       "       [-0.20903627, -0.57065059, -0.2800627 , ..., -0.0629189 ,\n",
       "        -0.46722532, -0.51992542],\n",
       "       [-0.20903627, -0.46288041, -0.32972484, ..., -0.0629189 ,\n",
       "        -0.26366074, -0.03084391],\n",
       "       ...,\n",
       "       [-0.20903627, -0.35511024, -0.32972484, ..., -0.0629189 ,\n",
       "        -0.17576212, -0.20161009],\n",
       "       [-0.04057675, -0.46288041,  2.60108038, ..., -0.0629189 ,\n",
       "        -0.07854795, -0.05768494],\n",
       "       [-0.20903627, -0.24734006, -0.28239293, ..., -0.0629189 ,\n",
       "        -0.02926443,  0.34545412]])"
      ]
     },
     "execution_count": 78,
     "metadata": {},
     "output_type": "execute_result"
    }
   ],
   "source": [
    "x_test"
   ]
  },
  {
   "cell_type": "code",
   "execution_count": 79,
   "metadata": {},
   "outputs": [],
   "source": [
    "#MODEL SELECTION (Cross Validation)\n",
    "from sklearn.model_selection import KFold\n",
    "from sklearn.model_selection import cross_val_score\n",
    "from sklearn.model_selection import GridSearchCV"
   ]
  },
  {
   "cell_type": "code",
   "execution_count": 80,
   "metadata": {},
   "outputs": [],
   "source": [
    "k = KFold(n_splits = 5)"
   ]
  },
  {
   "cell_type": "code",
   "execution_count": 81,
   "metadata": {},
   "outputs": [],
   "source": [
    "#MODEL\n",
    "from sklearn.ensemble import RandomForestClassifier\n",
    "from sklearn.svm import SVC\n",
    "from sklearn.tree import DecisionTreeClassifier"
   ]
  },
  {
   "cell_type": "code",
   "execution_count": 82,
   "metadata": {},
   "outputs": [
    {
     "data": {
      "text/plain": [
       "-0.130727433814737"
      ]
     },
     "execution_count": 82,
     "metadata": {},
     "output_type": "execute_result"
    }
   ],
   "source": [
    "#DECISION TREE CLASSIFIER\n",
    "dt_model = DecisionTreeClassifier()\n",
    "dt_score = cross_val_score(dt_model , x_train , y_train ,cv = k ,scoring = 'neg_mean_squared_error')\n",
    "dt_score.mean()"
   ]
  },
  {
   "cell_type": "code",
   "execution_count": 83,
   "metadata": {},
   "outputs": [],
   "source": [
    "model_params ={\n",
    "    'RandomForestClassifier':\n",
    "    {\n",
    "        'model':RandomForestClassifier(),\n",
    "        'param':\n",
    "        {\n",
    "         'n_estimators':[10 ,50 ,100,130],\n",
    "         'criterion':['gini' ,'entropy'],\n",
    "         'max_depth':range(4,8,1),\n",
    "        }\n",
    "    },\n",
    "    'SVC':\n",
    "    {\n",
    "        'model':SVC(),\n",
    "        'param':\n",
    "        {\n",
    "            'C':[1,20],\n",
    "            'gamma':[1,0.1],\n",
    "            'kernel':['rbf']\n",
    "        }\n",
    "    }\n",
    "}"
   ]
  },
  {
   "cell_type": "code",
   "execution_count": 84,
   "metadata": {},
   "outputs": [],
   "source": [
    "scores =[]\n",
    "for model_name , mp in model_params.items():\n",
    "    model_sel = GridSearchCV(estimator= mp['model'] ,param_grid= mp['param'] ,cv = 4 ,return_train_score=False)\n",
    "    # model_sel.fit(x_train,y_train)\n",
    "    model_sel.fit(x_test,y_test)\n",
    "    scores.append({\n",
    "        'model':model_name,\n",
    "        'best_score':model_sel.best_score_,\n",
    "        'best_params':model_sel.best_params_\n",
    "    })"
   ]
  },
  {
   "cell_type": "code",
   "execution_count": 85,
   "metadata": {},
   "outputs": [
    {
     "data": {
      "text/plain": [
       "[{'model': 'RandomForestClassifier',\n",
       "  'best_score': 0.8026825396825397,\n",
       "  'best_params': {'criterion': 'gini', 'max_depth': 7, 'n_estimators': 130}},\n",
       " {'model': 'SVC',\n",
       "  'best_score': 0.6970793650793651,\n",
       "  'best_params': {'C': 20, 'gamma': 1, 'kernel': 'rbf'}}]"
      ]
     },
     "execution_count": 85,
     "metadata": {},
     "output_type": "execute_result"
    }
   ],
   "source": [
    "scores"
   ]
  },
  {
   "cell_type": "code",
   "execution_count": 86,
   "metadata": {},
   "outputs": [],
   "source": [
    "#MODEL SCORES\n",
    "from sklearn.metrics import confusion_matrix , accuracy_score ,classification_report"
   ]
  },
  {
   "cell_type": "code",
   "execution_count": 87,
   "metadata": {},
   "outputs": [],
   "source": [
    "# model = RandomForestClassifier(random_state = 42)\n",
    "# accuracies = cross_val_score(model, x_train, y_train, cv=5)\n",
    "# model.fit(x_train,y_train)\n",
    "# y_pred = model.predict(x_test)\n",
    "# y_train_pred = model.predict(x_train)\n",
    " \n",
    "# #Obtain accuracy\n",
    "# print(\"Train Score:\",np.mean(accuracies))\n",
    "# print(\"Test Score:\",model.score(x_test,y_test))\n",
    "# print(\"Accuracy Score\", accuracy_score(y_test, y_pred))"
   ]
  },
  {
   "cell_type": "code",
   "execution_count": 88,
   "metadata": {},
   "outputs": [
    {
     "name": "stdout",
     "output_type": "stream",
     "text": [
      "Train Score: 0.9043806496781348\n",
      "Test Score: 0.9163346613545816\n",
      "Accuracy Score 0.9163346613545816\n"
     ]
    }
   ],
   "source": [
    "model = RandomForestClassifier(random_state = 42)\n",
    "accuracies = cross_val_score(model, x_train, y_train, cv=5)\n",
    "model.fit(x_train,y_train)\n",
    "y_pred = model.predict(x_test)\n",
    "y_train_pred = model.predict(x_train)\n",
    " \n",
    "#Obtain accuracy\n",
    "print(\"Train Score:\",np.mean(accuracies))\n",
    "print(\"Test Score:\",model.score(x_test,y_test))\n",
    "print(\"Accuracy Score\", accuracy_score(y_test, y_pred))"
   ]
  },
  {
   "cell_type": "code",
   "execution_count": 89,
   "metadata": {},
   "outputs": [
    {
     "data": {
      "text/plain": [
       "array([[-0.12012091,  2.12360377, -0.26684186, ..., -0.0629189 ,\n",
       "         0.23443142, -0.43621721],\n",
       "       [-0.20903627, -0.57065059, -0.2800627 , ..., -0.0629189 ,\n",
       "        -0.46722532, -0.51992542],\n",
       "       [-0.20903627, -0.46288041, -0.32972484, ..., -0.0629189 ,\n",
       "        -0.26366074, -0.03084391],\n",
       "       ...,\n",
       "       [-0.20903627, -0.35511024, -0.32972484, ..., -0.0629189 ,\n",
       "        -0.17576212, -0.20161009],\n",
       "       [-0.04057675, -0.46288041,  2.60108038, ..., -0.0629189 ,\n",
       "        -0.07854795, -0.05768494],\n",
       "       [-0.20903627, -0.24734006, -0.28239293, ..., -0.0629189 ,\n",
       "        -0.02926443,  0.34545412]])"
      ]
     },
     "execution_count": 89,
     "metadata": {},
     "output_type": "execute_result"
    }
   ],
   "source": [
    "x_test"
   ]
  },
  {
   "cell_type": "code",
   "execution_count": 90,
   "metadata": {},
   "outputs": [
    {
     "name": "stdout",
     "output_type": "stream",
     "text": [
      "<class 'numpy.ndarray'>\n"
     ]
    }
   ],
   "source": [
    "x_test\n",
    "print(type(x_test))"
   ]
  },
  {
   "cell_type": "code",
   "execution_count": 91,
   "metadata": {},
   "outputs": [
    {
     "data": {
      "text/plain": [
       "array([0, 1, 0, 0, 0, 1, 1, 0, 1, 1, 0, 1, 1, 1, 1, 0, 1, 1, 0, 0, 0, 1,\n",
       "       1, 0, 0, 1, 0, 1, 1, 0, 0, 0, 1, 0, 1, 0, 1, 1, 0, 1, 0, 0, 1, 1,\n",
       "       0, 1, 0, 1, 1, 0, 0, 1, 0, 1, 1, 0, 0, 1, 0, 0, 0, 1, 0, 0, 1, 0,\n",
       "       1, 1, 0, 0, 0, 0, 0, 0, 1, 1, 1, 0, 0, 0, 1, 0, 0, 0, 1, 1, 1, 0,\n",
       "       0, 1, 1, 1, 1, 0, 0, 1, 1, 1, 0, 0, 0, 1, 1, 0, 0, 0, 0, 0, 0, 0,\n",
       "       0, 1, 0, 1, 0, 1, 1, 0, 1, 1, 1, 0, 0, 0, 1, 0, 0, 0, 0, 1, 1, 0,\n",
       "       0, 0, 0, 0, 0, 0, 1, 1, 1, 0, 1, 0, 0, 1, 0, 0, 0, 0, 1, 0, 1, 0,\n",
       "       1, 1, 0, 0, 0, 1, 1, 0, 0, 0, 1, 1, 0, 1, 0, 1, 1, 1, 0, 0, 1, 1,\n",
       "       0, 1, 0, 0, 0, 1, 1, 1, 1, 1, 0, 0, 0, 1, 1, 0, 1, 0, 1, 0, 1, 1,\n",
       "       1, 1, 0, 1, 0, 0, 1, 1, 0, 1, 0, 0, 0, 1, 1, 1, 1, 1, 0, 1, 0, 0,\n",
       "       1, 0, 1, 0, 1, 1, 1, 1, 1, 0, 0, 1, 0, 0, 1, 0, 1, 0, 0, 1, 0, 0,\n",
       "       1, 1, 0, 0, 1, 1, 0, 0, 1, 0, 1, 1, 0, 1, 1, 1, 1, 0, 1, 1, 1, 1,\n",
       "       0, 0, 0, 1, 1, 0, 0, 1, 1, 1, 0, 0, 0, 1, 1, 0, 1, 1, 1, 1, 1, 0,\n",
       "       1, 1, 0, 0, 1, 0, 1, 0, 0, 1, 0, 1, 1, 0, 0, 1, 0, 1, 0, 1, 1, 1,\n",
       "       0, 1, 1, 1, 0, 0, 0, 0, 0, 0, 1, 0, 1, 1, 1, 0, 1, 0, 0, 0, 1, 1,\n",
       "       1, 0, 0, 1, 1, 1, 0, 1, 1, 1, 0, 0, 0, 1, 0, 1, 1, 0, 0, 1, 1, 1,\n",
       "       1, 1, 1, 0, 1, 0, 1, 1, 0, 0, 1, 0, 0, 1, 0, 1, 1, 0, 0, 0, 0, 0,\n",
       "       0, 1, 1, 0, 0, 1, 1, 0, 0, 0, 0, 0, 1, 0, 0, 0, 0, 0, 1, 0, 0, 1,\n",
       "       0, 1, 0, 1, 1, 1, 0, 0, 0, 1, 1, 0, 1, 0, 1, 0, 0, 0, 1, 0, 0, 0,\n",
       "       0, 1, 0, 0, 0, 1, 1, 0, 1, 0, 1, 0, 0, 0, 0, 1, 0, 0, 1, 0, 1, 0,\n",
       "       0, 0, 0, 1, 0, 1, 0, 0, 0, 0, 1, 1, 0, 0, 1, 1, 0, 1, 0, 0, 0, 1,\n",
       "       0, 0, 1, 1, 0, 0, 1, 1, 1, 0, 1, 0, 1, 0, 0, 1, 1, 0, 1, 1, 1, 1,\n",
       "       0, 0, 1, 0, 1, 0, 0, 1, 0, 0, 1, 0, 1, 0, 1, 0, 1, 1], dtype=int64)"
      ]
     },
     "execution_count": 91,
     "metadata": {},
     "output_type": "execute_result"
    }
   ],
   "source": [
    "y_pred"
   ]
  },
  {
   "cell_type": "code",
   "execution_count": 92,
   "metadata": {},
   "outputs": [
    {
     "data": {
      "text/plain": [
       "array([0], dtype=int64)"
      ]
     },
     "execution_count": 92,
     "metadata": {},
     "output_type": "execute_result"
    }
   ],
   "source": [
    "prediction = model.predict([x_test[2]])\n",
    "prediction"
   ]
  },
  {
   "cell_type": "code",
   "execution_count": 93,
   "metadata": {},
   "outputs": [],
   "source": [
    "li = y_pred.T.tolist()"
   ]
  },
  {
   "cell_type": "code",
   "execution_count": 94,
   "metadata": {},
   "outputs": [
    {
     "data": {
      "text/plain": [
       "{'0': 263, '1': 239}"
      ]
     },
     "execution_count": 94,
     "metadata": {},
     "output_type": "execute_result"
    }
   ],
   "source": [
    "{f\"{x}\": li.count(x) for x in li}"
   ]
  },
  {
   "cell_type": "code",
   "execution_count": 95,
   "metadata": {},
   "outputs": [],
   "source": [
    "# from sklearn.pipeline import make_pipeline\n",
    "\n",
    "# >>> model = make_pipeline(StandardScaler(), LinearRegression())\n",
    "# >>> model.fit(X_train, y_train)\n",
    "# Pipeline(steps=[('standardscaler', StandardScaler()),\n",
    "#                 ('linearregression', LinearRegression())])\n",
    "# >>> mean_squared_error(y_test, model.predict(X_test))"
   ]
  },
  {
   "cell_type": "code",
   "execution_count": 96,
   "metadata": {},
   "outputs": [
    {
     "name": "stdout",
     "output_type": "stream",
     "text": [
      "              precision    recall  f1-score   support\n",
      "\n",
      "           0       0.95      0.90      0.92       277\n",
      "           1       0.88      0.94      0.91       225\n",
      "\n",
      "    accuracy                           0.92       502\n",
      "   macro avg       0.91      0.92      0.92       502\n",
      "weighted avg       0.92      0.92      0.92       502\n",
      "\n"
     ]
    }
   ],
   "source": [
    "#MODEL SCORES REPORT\n",
    "print(classification_report(y_test, y_pred))"
   ]
  },
  {
   "cell_type": "code",
   "execution_count": 97,
   "metadata": {},
   "outputs": [
    {
     "name": "stdout",
     "output_type": "stream",
     "text": [
      "              precision    recall  f1-score   support\n",
      "\n",
      "           0       0.99      0.97      0.98      1985\n",
      "           1       0.97      0.99      0.98      2031\n",
      "\n",
      "    accuracy                           0.98      4016\n",
      "   macro avg       0.98      0.98      0.98      4016\n",
      "weighted avg       0.98      0.98      0.98      4016\n",
      "\n"
     ]
    }
   ],
   "source": [
    "print(classification_report(y_train , y_train_pred))"
   ]
  },
  {
   "cell_type": "code",
   "execution_count": 98,
   "metadata": {},
   "outputs": [
    {
     "data": {
      "text/plain": [
       "<Axes: >"
      ]
     },
     "execution_count": 98,
     "metadata": {},
     "output_type": "execute_result"
    },
    {
     "data": {
      "image/png": "[encoded data removed]",
      "text/plain": [
       "<Figure size 640x480 with 2 Axes>"
      ]
     },
     "metadata": {},
     "output_type": "display_data"
    }
   ],
   "source": [
    "sns.heatmap(confusion_matrix(y_test ,y_pred) ,annot = True ,cmap ='ocean')"
   ]
  },
  {
   "cell_type": "code",
   "execution_count": 99,
   "metadata": {},
   "outputs": [],
   "source": [
    "# import pickle\n",
    "# with open('attr_model.pkl', 'wb') as file:\n",
    "#     pickle.dump(model, file)"
   ]
  },
  {
   "cell_type": "code",
   "execution_count": 100,
   "metadata": {},
   "outputs": [],
   "source": [
    "# with open('attr_model.pkl', 'rb') as f:\n",
    "#     mod = pickle.load(f)"
   ]
  },
  {
   "cell_type": "code",
   "execution_count": 101,
   "metadata": {},
   "outputs": [
    {
     "data": {
      "text/html": [
       "<div>\n",
       "<style scoped>\n",
       "    .dataframe tbody tr th:only-of-type {\n",
       "        vertical-align: middle;\n",
       "    }\n",
       "\n",
       "    .dataframe tbody tr th {\n",
       "        vertical-align: top;\n",
       "    }\n",
       "\n",
       "    .dataframe thead th {\n",
       "        text-align: right;\n",
       "    }\n",
       "</style>\n",
       "<table border=\"1\" class=\"dataframe\">\n",
       "  <thead>\n",
       "    <tr style=\"text-align: right;\">\n",
       "      <th></th>\n",
       "      <th>Emp_Left</th>\n",
       "      <th>Dept_ID</th>\n",
       "      <th>Age</th>\n",
       "      <th>Desig_Id</th>\n",
       "      <th>Marital_Status</th>\n",
       "      <th>Gender</th>\n",
       "      <th>State</th>\n",
       "      <th>City</th>\n",
       "      <th>Probation</th>\n",
       "      <th>Basic_Salary</th>\n",
       "      <th>Gross_Salary</th>\n",
       "    </tr>\n",
       "  </thead>\n",
       "  <tbody>\n",
       "    <tr>\n",
       "      <th>5</th>\n",
       "      <td>0</td>\n",
       "      <td>305.0</td>\n",
       "      <td>33</td>\n",
       "      <td>615.0</td>\n",
       "      <td>1</td>\n",
       "      <td>1</td>\n",
       "      <td>2</td>\n",
       "      <td>1</td>\n",
       "      <td>0.0</td>\n",
       "      <td>30000.0</td>\n",
       "      <td>49871.00</td>\n",
       "    </tr>\n",
       "    <tr>\n",
       "      <th>8</th>\n",
       "      <td>0</td>\n",
       "      <td>306.0</td>\n",
       "      <td>41</td>\n",
       "      <td>618.0</td>\n",
       "      <td>1</td>\n",
       "      <td>1</td>\n",
       "      <td>2</td>\n",
       "      <td>34</td>\n",
       "      <td>0.0</td>\n",
       "      <td>30000.0</td>\n",
       "      <td>49871.00</td>\n",
       "    </tr>\n",
       "    <tr>\n",
       "      <th>9</th>\n",
       "      <td>0</td>\n",
       "      <td>306.0</td>\n",
       "      <td>51</td>\n",
       "      <td>618.0</td>\n",
       "      <td>1</td>\n",
       "      <td>1</td>\n",
       "      <td>2</td>\n",
       "      <td>34</td>\n",
       "      <td>0.0</td>\n",
       "      <td>30000.0</td>\n",
       "      <td>49871.00</td>\n",
       "    </tr>\n",
       "    <tr>\n",
       "      <th>10</th>\n",
       "      <td>0</td>\n",
       "      <td>306.0</td>\n",
       "      <td>35</td>\n",
       "      <td>618.0</td>\n",
       "      <td>1</td>\n",
       "      <td>1</td>\n",
       "      <td>2</td>\n",
       "      <td>1</td>\n",
       "      <td>0.0</td>\n",
       "      <td>30000.0</td>\n",
       "      <td>49871.00</td>\n",
       "    </tr>\n",
       "    <tr>\n",
       "      <th>11</th>\n",
       "      <td>0</td>\n",
       "      <td>306.0</td>\n",
       "      <td>40</td>\n",
       "      <td>618.0</td>\n",
       "      <td>1</td>\n",
       "      <td>1</td>\n",
       "      <td>2</td>\n",
       "      <td>1</td>\n",
       "      <td>0.0</td>\n",
       "      <td>30000.0</td>\n",
       "      <td>49871.00</td>\n",
       "    </tr>\n",
       "    <tr>\n",
       "      <th>...</th>\n",
       "      <td>...</td>\n",
       "      <td>...</td>\n",
       "      <td>...</td>\n",
       "      <td>...</td>\n",
       "      <td>...</td>\n",
       "      <td>...</td>\n",
       "      <td>...</td>\n",
       "      <td>...</td>\n",
       "      <td>...</td>\n",
       "      <td>...</td>\n",
       "      <td>...</td>\n",
       "    </tr>\n",
       "    <tr>\n",
       "      <th>8005</th>\n",
       "      <td>0</td>\n",
       "      <td>313.0</td>\n",
       "      <td>34</td>\n",
       "      <td>659.0</td>\n",
       "      <td>1</td>\n",
       "      <td>1</td>\n",
       "      <td>10</td>\n",
       "      <td>34</td>\n",
       "      <td>0.0</td>\n",
       "      <td>17500.0</td>\n",
       "      <td>26500.00</td>\n",
       "    </tr>\n",
       "    <tr>\n",
       "      <th>8006</th>\n",
       "      <td>0</td>\n",
       "      <td>313.0</td>\n",
       "      <td>34</td>\n",
       "      <td>659.0</td>\n",
       "      <td>1</td>\n",
       "      <td>1</td>\n",
       "      <td>10</td>\n",
       "      <td>34</td>\n",
       "      <td>0.0</td>\n",
       "      <td>19000.0</td>\n",
       "      <td>28600.00</td>\n",
       "    </tr>\n",
       "    <tr>\n",
       "      <th>8009</th>\n",
       "      <td>0</td>\n",
       "      <td>313.0</td>\n",
       "      <td>34</td>\n",
       "      <td>659.0</td>\n",
       "      <td>1</td>\n",
       "      <td>1</td>\n",
       "      <td>10</td>\n",
       "      <td>34</td>\n",
       "      <td>0.0</td>\n",
       "      <td>17500.0</td>\n",
       "      <td>26500.00</td>\n",
       "    </tr>\n",
       "    <tr>\n",
       "      <th>8015</th>\n",
       "      <td>0</td>\n",
       "      <td>313.0</td>\n",
       "      <td>34</td>\n",
       "      <td>659.0</td>\n",
       "      <td>1</td>\n",
       "      <td>1</td>\n",
       "      <td>10</td>\n",
       "      <td>34</td>\n",
       "      <td>0.0</td>\n",
       "      <td>9300.0</td>\n",
       "      <td>75020.00</td>\n",
       "    </tr>\n",
       "    <tr>\n",
       "      <th>8041</th>\n",
       "      <td>0</td>\n",
       "      <td>327.0</td>\n",
       "      <td>26</td>\n",
       "      <td>1445.0</td>\n",
       "      <td>1</td>\n",
       "      <td>1</td>\n",
       "      <td>1</td>\n",
       "      <td>25</td>\n",
       "      <td>0.0</td>\n",
       "      <td>4000.0</td>\n",
       "      <td>13349.41</td>\n",
       "    </tr>\n",
       "  </tbody>\n",
       "</table>\n",
       "<p>2510 rows × 11 columns</p>\n",
       "</div>"
      ],
      "text/plain": [
       "      Emp_Left  Dept_ID  Age  Desig_Id  Marital_Status  Gender  State  City  \\\n",
       "5            0    305.0   33     615.0               1       1      2     1   \n",
       "8            0    306.0   41     618.0               1       1      2    34   \n",
       "9            0    306.0   51     618.0               1       1      2    34   \n",
       "10           0    306.0   35     618.0               1       1      2     1   \n",
       "11           0    306.0   40     618.0               1       1      2     1   \n",
       "...        ...      ...  ...       ...             ...     ...    ...   ...   \n",
       "8005         0    313.0   34     659.0               1       1     10    34   \n",
       "8006         0    313.0   34     659.0               1       1     10    34   \n",
       "8009         0    313.0   34     659.0               1       1     10    34   \n",
       "8015         0    313.0   34     659.0               1       1     10    34   \n",
       "8041         0    327.0   26    1445.0               1       1      1    25   \n",
       "\n",
       "      Probation  Basic_Salary  Gross_Salary  \n",
       "5           0.0       30000.0      49871.00  \n",
       "8           0.0       30000.0      49871.00  \n",
       "9           0.0       30000.0      49871.00  \n",
       "10          0.0       30000.0      49871.00  \n",
       "11          0.0       30000.0      49871.00  \n",
       "...         ...           ...           ...  \n",
       "8005        0.0       17500.0      26500.00  \n",
       "8006        0.0       19000.0      28600.00  \n",
       "8009        0.0       17500.0      26500.00  \n",
       "8015        0.0        9300.0      75020.00  \n",
       "8041        0.0        4000.0      13349.41  \n",
       "\n",
       "[2510 rows x 11 columns]"
      ]
     },
     "execution_count": 101,
     "metadata": {},
     "output_type": "execute_result"
    }
   ],
   "source": [
    "total_emp = df1.loc[(df1['Emp_Left']==0)]\n",
    "total_emp"
   ]
  },
  {
   "cell_type": "code",
   "execution_count": 102,
   "metadata": {},
   "outputs": [
    {
     "name": "stdout",
     "output_type": "stream",
     "text": [
      "This list of Employee Left the company within 30 Day , with 90 percent Acc\n"
     ]
    },
    {
     "data": {
      "text/html": [
       "<div>\n",
       "<style scoped>\n",
       "    .dataframe tbody tr th:only-of-type {\n",
       "        vertical-align: middle;\n",
       "    }\n",
       "\n",
       "    .dataframe tbody tr th {\n",
       "        vertical-align: top;\n",
       "    }\n",
       "\n",
       "    .dataframe thead th {\n",
       "        text-align: right;\n",
       "    }\n",
       "</style>\n",
       "<table border=\"1\" class=\"dataframe\">\n",
       "  <thead>\n",
       "    <tr style=\"text-align: right;\">\n",
       "      <th></th>\n",
       "      <th>Emp_Left</th>\n",
       "      <th>Dept_ID</th>\n",
       "      <th>Age</th>\n",
       "      <th>Desig_Id</th>\n",
       "      <th>Marital_Status</th>\n",
       "      <th>Gender</th>\n",
       "      <th>State</th>\n",
       "      <th>City</th>\n",
       "      <th>Probation</th>\n",
       "      <th>Basic_Salary</th>\n",
       "      <th>Gross_Salary</th>\n",
       "    </tr>\n",
       "  </thead>\n",
       "  <tbody>\n",
       "    <tr>\n",
       "      <th>5710</th>\n",
       "      <td>0</td>\n",
       "      <td>313.0</td>\n",
       "      <td>34</td>\n",
       "      <td>659.0</td>\n",
       "      <td>6</td>\n",
       "      <td>1</td>\n",
       "      <td>10</td>\n",
       "      <td>34</td>\n",
       "      <td>0.0</td>\n",
       "      <td>6000.0</td>\n",
       "      <td>9700.00</td>\n",
       "    </tr>\n",
       "    <tr>\n",
       "      <th>5714</th>\n",
       "      <td>0</td>\n",
       "      <td>313.0</td>\n",
       "      <td>35</td>\n",
       "      <td>659.0</td>\n",
       "      <td>2</td>\n",
       "      <td>1</td>\n",
       "      <td>10</td>\n",
       "      <td>34</td>\n",
       "      <td>0.0</td>\n",
       "      <td>5000.0</td>\n",
       "      <td>7000.00</td>\n",
       "    </tr>\n",
       "    <tr>\n",
       "      <th>6403</th>\n",
       "      <td>0</td>\n",
       "      <td>313.0</td>\n",
       "      <td>34</td>\n",
       "      <td>659.0</td>\n",
       "      <td>6</td>\n",
       "      <td>1</td>\n",
       "      <td>10</td>\n",
       "      <td>34</td>\n",
       "      <td>0.0</td>\n",
       "      <td>7000.0</td>\n",
       "      <td>15576.90</td>\n",
       "    </tr>\n",
       "    <tr>\n",
       "      <th>6504</th>\n",
       "      <td>0</td>\n",
       "      <td>313.0</td>\n",
       "      <td>36</td>\n",
       "      <td>659.0</td>\n",
       "      <td>5</td>\n",
       "      <td>1</td>\n",
       "      <td>10</td>\n",
       "      <td>34</td>\n",
       "      <td>0.0</td>\n",
       "      <td>2000.0</td>\n",
       "      <td>2153.84</td>\n",
       "    </tr>\n",
       "    <tr>\n",
       "      <th>6660</th>\n",
       "      <td>0</td>\n",
       "      <td>313.0</td>\n",
       "      <td>34</td>\n",
       "      <td>659.0</td>\n",
       "      <td>2</td>\n",
       "      <td>1</td>\n",
       "      <td>10</td>\n",
       "      <td>34</td>\n",
       "      <td>0.0</td>\n",
       "      <td>0.0</td>\n",
       "      <td>2000.00</td>\n",
       "    </tr>\n",
       "    <tr>\n",
       "      <th>6668</th>\n",
       "      <td>0</td>\n",
       "      <td>313.0</td>\n",
       "      <td>34</td>\n",
       "      <td>659.0</td>\n",
       "      <td>1</td>\n",
       "      <td>1</td>\n",
       "      <td>10</td>\n",
       "      <td>34</td>\n",
       "      <td>0.0</td>\n",
       "      <td>0.0</td>\n",
       "      <td>2000.00</td>\n",
       "    </tr>\n",
       "    <tr>\n",
       "      <th>6680</th>\n",
       "      <td>0</td>\n",
       "      <td>313.0</td>\n",
       "      <td>34</td>\n",
       "      <td>659.0</td>\n",
       "      <td>5</td>\n",
       "      <td>1</td>\n",
       "      <td>10</td>\n",
       "      <td>34</td>\n",
       "      <td>0.0</td>\n",
       "      <td>0.0</td>\n",
       "      <td>2000.00</td>\n",
       "    </tr>\n",
       "    <tr>\n",
       "      <th>7006</th>\n",
       "      <td>0</td>\n",
       "      <td>313.0</td>\n",
       "      <td>34</td>\n",
       "      <td>622.0</td>\n",
       "      <td>1</td>\n",
       "      <td>1</td>\n",
       "      <td>10</td>\n",
       "      <td>34</td>\n",
       "      <td>0.0</td>\n",
       "      <td>9500.0</td>\n",
       "      <td>0.00</td>\n",
       "    </tr>\n",
       "    <tr>\n",
       "      <th>7055</th>\n",
       "      <td>0</td>\n",
       "      <td>313.0</td>\n",
       "      <td>34</td>\n",
       "      <td>659.0</td>\n",
       "      <td>1</td>\n",
       "      <td>1</td>\n",
       "      <td>10</td>\n",
       "      <td>34</td>\n",
       "      <td>0.0</td>\n",
       "      <td>9900.0</td>\n",
       "      <td>0.00</td>\n",
       "    </tr>\n",
       "    <tr>\n",
       "      <th>7243</th>\n",
       "      <td>0</td>\n",
       "      <td>313.0</td>\n",
       "      <td>35</td>\n",
       "      <td>659.0</td>\n",
       "      <td>1</td>\n",
       "      <td>1</td>\n",
       "      <td>10</td>\n",
       "      <td>34</td>\n",
       "      <td>0.0</td>\n",
       "      <td>7000.0</td>\n",
       "      <td>0.00</td>\n",
       "    </tr>\n",
       "    <tr>\n",
       "      <th>7690</th>\n",
       "      <td>0</td>\n",
       "      <td>313.0</td>\n",
       "      <td>34</td>\n",
       "      <td>622.0</td>\n",
       "      <td>1</td>\n",
       "      <td>1</td>\n",
       "      <td>10</td>\n",
       "      <td>34</td>\n",
       "      <td>0.0</td>\n",
       "      <td>8000.0</td>\n",
       "      <td>12793.66</td>\n",
       "    </tr>\n",
       "    <tr>\n",
       "      <th>7691</th>\n",
       "      <td>0</td>\n",
       "      <td>313.0</td>\n",
       "      <td>34</td>\n",
       "      <td>622.0</td>\n",
       "      <td>1</td>\n",
       "      <td>1</td>\n",
       "      <td>10</td>\n",
       "      <td>34</td>\n",
       "      <td>0.0</td>\n",
       "      <td>6000.0</td>\n",
       "      <td>5073.00</td>\n",
       "    </tr>\n",
       "    <tr>\n",
       "      <th>7806</th>\n",
       "      <td>0</td>\n",
       "      <td>313.0</td>\n",
       "      <td>35</td>\n",
       "      <td>659.0</td>\n",
       "      <td>1</td>\n",
       "      <td>1</td>\n",
       "      <td>10</td>\n",
       "      <td>34</td>\n",
       "      <td>0.0</td>\n",
       "      <td>7000.0</td>\n",
       "      <td>11800.00</td>\n",
       "    </tr>\n",
       "    <tr>\n",
       "      <th>7974</th>\n",
       "      <td>0</td>\n",
       "      <td>313.0</td>\n",
       "      <td>34</td>\n",
       "      <td>1496.0</td>\n",
       "      <td>1</td>\n",
       "      <td>1</td>\n",
       "      <td>10</td>\n",
       "      <td>34</td>\n",
       "      <td>0.0</td>\n",
       "      <td>6000.0</td>\n",
       "      <td>10593.55</td>\n",
       "    </tr>\n",
       "    <tr>\n",
       "      <th>8015</th>\n",
       "      <td>0</td>\n",
       "      <td>313.0</td>\n",
       "      <td>34</td>\n",
       "      <td>659.0</td>\n",
       "      <td>1</td>\n",
       "      <td>1</td>\n",
       "      <td>10</td>\n",
       "      <td>34</td>\n",
       "      <td>0.0</td>\n",
       "      <td>9300.0</td>\n",
       "      <td>75020.00</td>\n",
       "    </tr>\n",
       "  </tbody>\n",
       "</table>\n",
       "</div>"
      ],
      "text/plain": [
       "      Emp_Left  Dept_ID  Age  Desig_Id  Marital_Status  Gender  State  City  \\\n",
       "5710         0    313.0   34     659.0               6       1     10    34   \n",
       "5714         0    313.0   35     659.0               2       1     10    34   \n",
       "6403         0    313.0   34     659.0               6       1     10    34   \n",
       "6504         0    313.0   36     659.0               5       1     10    34   \n",
       "6660         0    313.0   34     659.0               2       1     10    34   \n",
       "6668         0    313.0   34     659.0               1       1     10    34   \n",
       "6680         0    313.0   34     659.0               5       1     10    34   \n",
       "7006         0    313.0   34     622.0               1       1     10    34   \n",
       "7055         0    313.0   34     659.0               1       1     10    34   \n",
       "7243         0    313.0   35     659.0               1       1     10    34   \n",
       "7690         0    313.0   34     622.0               1       1     10    34   \n",
       "7691         0    313.0   34     622.0               1       1     10    34   \n",
       "7806         0    313.0   35     659.0               1       1     10    34   \n",
       "7974         0    313.0   34    1496.0               1       1     10    34   \n",
       "8015         0    313.0   34     659.0               1       1     10    34   \n",
       "\n",
       "      Probation  Basic_Salary  Gross_Salary  \n",
       "5710        0.0        6000.0       9700.00  \n",
       "5714        0.0        5000.0       7000.00  \n",
       "6403        0.0        7000.0      15576.90  \n",
       "6504        0.0        2000.0       2153.84  \n",
       "6660        0.0           0.0       2000.00  \n",
       "6668        0.0           0.0       2000.00  \n",
       "6680        0.0           0.0       2000.00  \n",
       "7006        0.0        9500.0          0.00  \n",
       "7055        0.0        9900.0          0.00  \n",
       "7243        0.0        7000.0          0.00  \n",
       "7690        0.0        8000.0      12793.66  \n",
       "7691        0.0        6000.0       5073.00  \n",
       "7806        0.0        7000.0      11800.00  \n",
       "7974        0.0        6000.0      10593.55  \n",
       "8015        0.0        9300.0      75020.00  "
      ]
     },
     "execution_count": 102,
     "metadata": {},
     "output_type": "execute_result"
    }
   ],
   "source": [
    "max_priority = df1.loc[(df1['Emp_Left'] == 0) & (df1['Dept_ID'] >= 313.0) & (df1['Dept_ID'] <= 315.0) & (df1['Basic_Salary'] <= 10000) & (df1['Gender'] == 1) & (df1['Age'] >= 34) & (df1['Age'] <= 40)]\n",
    "per = (len(max_priority)/len(total_emp)) * 100\n",
    "print(\"This list of Employee Left the company within 30 Day , with 90 percent Acc\" )\n",
    "max_priority\n",
    "\n",
    "# Company Employee Left under 30 Days "
   ]
  },
  {
   "cell_type": "code",
   "execution_count": 103,
   "metadata": {},
   "outputs": [
    {
     "name": "stdout",
     "output_type": "stream",
     "text": [
      "This list of Female Employee  Count 0, Left the company within 30 Day , with 90 percent Acc\n"
     ]
    },
    {
     "data": {
      "text/html": [
       "<div>\n",
       "<style scoped>\n",
       "    .dataframe tbody tr th:only-of-type {\n",
       "        vertical-align: middle;\n",
       "    }\n",
       "\n",
       "    .dataframe tbody tr th {\n",
       "        vertical-align: top;\n",
       "    }\n",
       "\n",
       "    .dataframe thead th {\n",
       "        text-align: right;\n",
       "    }\n",
       "</style>\n",
       "<table border=\"1\" class=\"dataframe\">\n",
       "  <thead>\n",
       "    <tr style=\"text-align: right;\">\n",
       "      <th></th>\n",
       "      <th>Emp_Left</th>\n",
       "      <th>Dept_ID</th>\n",
       "      <th>Age</th>\n",
       "      <th>Desig_Id</th>\n",
       "      <th>Marital_Status</th>\n",
       "      <th>Gender</th>\n",
       "      <th>State</th>\n",
       "      <th>City</th>\n",
       "      <th>Probation</th>\n",
       "      <th>Basic_Salary</th>\n",
       "      <th>Gross_Salary</th>\n",
       "    </tr>\n",
       "  </thead>\n",
       "  <tbody>\n",
       "  </tbody>\n",
       "</table>\n",
       "</div>"
      ],
      "text/plain": [
       "Empty DataFrame\n",
       "Columns: [Emp_Left, Dept_ID, Age, Desig_Id, Marital_Status, Gender, State, City, Probation, Basic_Salary, Gross_Salary]\n",
       "Index: []"
      ]
     },
     "execution_count": 103,
     "metadata": {},
     "output_type": "execute_result"
    }
   ],
   "source": [
    "max_priority = df1.loc[(df1['Dept_ID'] >= 313.0) & (df1['Dept_ID'] <= 315.0) & (df1['Basic_Salary'] <= 18000) & (df1['Gender'] == 0) & (df1['Age'] >= 45)]\n",
    "per = (len(max_priority)/len(total_emp)) * 100\n",
    "print(f\"This list of Female Employee  Count {len(max_priority)}, Left the company within 30 Day , with 90 percent Acc\" )\n",
    "max_priority"
   ]
  },
  {
   "cell_type": "code",
   "execution_count": 104,
   "metadata": {},
   "outputs": [
    {
     "name": "stdout",
     "output_type": "stream",
     "text": [
      "This list of Employee Male Count 2,  Left the company Within 60 day , with 90 percent Acc\n"
     ]
    },
    {
     "data": {
      "text/html": [
       "<div>\n",
       "<style scoped>\n",
       "    .dataframe tbody tr th:only-of-type {\n",
       "        vertical-align: middle;\n",
       "    }\n",
       "\n",
       "    .dataframe tbody tr th {\n",
       "        vertical-align: top;\n",
       "    }\n",
       "\n",
       "    .dataframe thead th {\n",
       "        text-align: right;\n",
       "    }\n",
       "</style>\n",
       "<table border=\"1\" class=\"dataframe\">\n",
       "  <thead>\n",
       "    <tr style=\"text-align: right;\">\n",
       "      <th></th>\n",
       "      <th>Emp_Left</th>\n",
       "      <th>Dept_ID</th>\n",
       "      <th>Age</th>\n",
       "      <th>Desig_Id</th>\n",
       "      <th>Marital_Status</th>\n",
       "      <th>Gender</th>\n",
       "      <th>State</th>\n",
       "      <th>City</th>\n",
       "      <th>Probation</th>\n",
       "      <th>Basic_Salary</th>\n",
       "      <th>Gross_Salary</th>\n",
       "    </tr>\n",
       "  </thead>\n",
       "  <tbody>\n",
       "    <tr>\n",
       "      <th>7746</th>\n",
       "      <td>0</td>\n",
       "      <td>768.0</td>\n",
       "      <td>33</td>\n",
       "      <td>1458.0</td>\n",
       "      <td>1</td>\n",
       "      <td>1</td>\n",
       "      <td>10</td>\n",
       "      <td>34</td>\n",
       "      <td>0.0</td>\n",
       "      <td>18000.0</td>\n",
       "      <td>36809.7</td>\n",
       "    </tr>\n",
       "    <tr>\n",
       "      <th>7747</th>\n",
       "      <td>0</td>\n",
       "      <td>768.0</td>\n",
       "      <td>33</td>\n",
       "      <td>1458.0</td>\n",
       "      <td>1</td>\n",
       "      <td>1</td>\n",
       "      <td>10</td>\n",
       "      <td>34</td>\n",
       "      <td>0.0</td>\n",
       "      <td>18000.0</td>\n",
       "      <td>56380.7</td>\n",
       "    </tr>\n",
       "  </tbody>\n",
       "</table>\n",
       "</div>"
      ],
      "text/plain": [
       "      Emp_Left  Dept_ID  Age  Desig_Id  Marital_Status  Gender  State  City  \\\n",
       "7746         0    768.0   33    1458.0               1       1     10    34   \n",
       "7747         0    768.0   33    1458.0               1       1     10    34   \n",
       "\n",
       "      Probation  Basic_Salary  Gross_Salary  \n",
       "7746        0.0       18000.0       36809.7  \n",
       "7747        0.0       18000.0       56380.7  "
      ]
     },
     "execution_count": 104,
     "metadata": {},
     "output_type": "execute_result"
    }
   ],
   "source": [
    "medium_priority = df1.loc[(df1['Dept_ID'] > 767.0) & (df1['Dept_ID'] < 780.0) & ( df1['Emp_Left'] == 0) & (df1['Basic_Salary'] <= 25000) & (df1['Gender'] == 1) & (df1['Age'] <= 40)]\n",
    "per = (len(medium_priority)/len(total_emp)) * 100\n",
    "print(f\"This list of Employee Male Count {len(medium_priority)},  Left the company Within 60 day , with 90 percent Acc\" )\n",
    "medium_priority\n",
    "\n",
    "# Company Left under 60 Days "
   ]
  },
  {
   "cell_type": "code",
   "execution_count": 105,
   "metadata": {},
   "outputs": [
    {
     "name": "stdout",
     "output_type": "stream",
     "text": [
      "This list of Employee Female Count 0,  Left the company Within 60 day , with 90 percent Acc\n"
     ]
    },
    {
     "data": {
      "text/html": [
       "<div>\n",
       "<style scoped>\n",
       "    .dataframe tbody tr th:only-of-type {\n",
       "        vertical-align: middle;\n",
       "    }\n",
       "\n",
       "    .dataframe tbody tr th {\n",
       "        vertical-align: top;\n",
       "    }\n",
       "\n",
       "    .dataframe thead th {\n",
       "        text-align: right;\n",
       "    }\n",
       "</style>\n",
       "<table border=\"1\" class=\"dataframe\">\n",
       "  <thead>\n",
       "    <tr style=\"text-align: right;\">\n",
       "      <th></th>\n",
       "      <th>Emp_Left</th>\n",
       "      <th>Dept_ID</th>\n",
       "      <th>Age</th>\n",
       "      <th>Desig_Id</th>\n",
       "      <th>Marital_Status</th>\n",
       "      <th>Gender</th>\n",
       "      <th>State</th>\n",
       "      <th>City</th>\n",
       "      <th>Probation</th>\n",
       "      <th>Basic_Salary</th>\n",
       "      <th>Gross_Salary</th>\n",
       "    </tr>\n",
       "  </thead>\n",
       "  <tbody>\n",
       "  </tbody>\n",
       "</table>\n",
       "</div>"
      ],
      "text/plain": [
       "Empty DataFrame\n",
       "Columns: [Emp_Left, Dept_ID, Age, Desig_Id, Marital_Status, Gender, State, City, Probation, Basic_Salary, Gross_Salary]\n",
       "Index: []"
      ]
     },
     "execution_count": 105,
     "metadata": {},
     "output_type": "execute_result"
    }
   ],
   "source": [
    "medium_priority = df1.loc[(df1['Dept_ID'] > 767.0) & (df1['Dept_ID'] < 780.0) & ( df1['Emp_Left'] == 47) & (df1['Basic_Salary'] <= 25000) & (df1['Gender'] == 0) & (df1['Age'] >= 30)]\n",
    "per = (len(medium_priority)/len(total_emp)) * 100\n",
    "print(f\"This list of Employee Female Count {len(medium_priority)},  Left the company Within 60 day , with 90 percent Acc\" )\n",
    "medium_priority"
   ]
  },
  {
   "cell_type": "code",
   "execution_count": 106,
   "metadata": {},
   "outputs": [
    {
     "name": "stdout",
     "output_type": "stream",
     "text": [
      "This list of Employee Left the company Within 90 -120 day, with greater than 90 percent Acc\n"
     ]
    },
    {
     "data": {
      "text/html": [
       "<div>\n",
       "<style scoped>\n",
       "    .dataframe tbody tr th:only-of-type {\n",
       "        vertical-align: middle;\n",
       "    }\n",
       "\n",
       "    .dataframe tbody tr th {\n",
       "        vertical-align: top;\n",
       "    }\n",
       "\n",
       "    .dataframe thead th {\n",
       "        text-align: right;\n",
       "    }\n",
       "</style>\n",
       "<table border=\"1\" class=\"dataframe\">\n",
       "  <thead>\n",
       "    <tr style=\"text-align: right;\">\n",
       "      <th></th>\n",
       "      <th>Emp_Left</th>\n",
       "      <th>Dept_ID</th>\n",
       "      <th>Age</th>\n",
       "      <th>Desig_Id</th>\n",
       "      <th>Marital_Status</th>\n",
       "      <th>Gender</th>\n",
       "      <th>State</th>\n",
       "      <th>City</th>\n",
       "      <th>Probation</th>\n",
       "      <th>Basic_Salary</th>\n",
       "      <th>Gross_Salary</th>\n",
       "    </tr>\n",
       "  </thead>\n",
       "  <tbody>\n",
       "    <tr>\n",
       "      <th>1750</th>\n",
       "      <td>0</td>\n",
       "      <td>328.0</td>\n",
       "      <td>36</td>\n",
       "      <td>610.0</td>\n",
       "      <td>1</td>\n",
       "      <td>1</td>\n",
       "      <td>10</td>\n",
       "      <td>34</td>\n",
       "      <td>0.0</td>\n",
       "      <td>15000.0</td>\n",
       "      <td>23400.00</td>\n",
       "    </tr>\n",
       "    <tr>\n",
       "      <th>2020</th>\n",
       "      <td>0</td>\n",
       "      <td>324.0</td>\n",
       "      <td>36</td>\n",
       "      <td>611.0</td>\n",
       "      <td>1</td>\n",
       "      <td>1</td>\n",
       "      <td>10</td>\n",
       "      <td>34</td>\n",
       "      <td>0.0</td>\n",
       "      <td>5000.0</td>\n",
       "      <td>9388.00</td>\n",
       "    </tr>\n",
       "    <tr>\n",
       "      <th>2246</th>\n",
       "      <td>0</td>\n",
       "      <td>323.0</td>\n",
       "      <td>36</td>\n",
       "      <td>610.0</td>\n",
       "      <td>1</td>\n",
       "      <td>1</td>\n",
       "      <td>10</td>\n",
       "      <td>34</td>\n",
       "      <td>0.0</td>\n",
       "      <td>16000.0</td>\n",
       "      <td>25100.00</td>\n",
       "    </tr>\n",
       "    <tr>\n",
       "      <th>2247</th>\n",
       "      <td>0</td>\n",
       "      <td>323.0</td>\n",
       "      <td>36</td>\n",
       "      <td>610.0</td>\n",
       "      <td>1</td>\n",
       "      <td>1</td>\n",
       "      <td>10</td>\n",
       "      <td>34</td>\n",
       "      <td>0.0</td>\n",
       "      <td>15000.0</td>\n",
       "      <td>23700.00</td>\n",
       "    </tr>\n",
       "    <tr>\n",
       "      <th>2248</th>\n",
       "      <td>0</td>\n",
       "      <td>323.0</td>\n",
       "      <td>36</td>\n",
       "      <td>610.0</td>\n",
       "      <td>1</td>\n",
       "      <td>1</td>\n",
       "      <td>10</td>\n",
       "      <td>34</td>\n",
       "      <td>0.0</td>\n",
       "      <td>14000.0</td>\n",
       "      <td>22300.00</td>\n",
       "    </tr>\n",
       "    <tr>\n",
       "      <th>...</th>\n",
       "      <td>...</td>\n",
       "      <td>...</td>\n",
       "      <td>...</td>\n",
       "      <td>...</td>\n",
       "      <td>...</td>\n",
       "      <td>...</td>\n",
       "      <td>...</td>\n",
       "      <td>...</td>\n",
       "      <td>...</td>\n",
       "      <td>...</td>\n",
       "      <td>...</td>\n",
       "    </tr>\n",
       "    <tr>\n",
       "      <th>7779</th>\n",
       "      <td>0</td>\n",
       "      <td>585.0</td>\n",
       "      <td>0</td>\n",
       "      <td>1102.0</td>\n",
       "      <td>1</td>\n",
       "      <td>1</td>\n",
       "      <td>10</td>\n",
       "      <td>34</td>\n",
       "      <td>0.0</td>\n",
       "      <td>14500.0</td>\n",
       "      <td>7200.00</td>\n",
       "    </tr>\n",
       "    <tr>\n",
       "      <th>7984</th>\n",
       "      <td>0</td>\n",
       "      <td>581.0</td>\n",
       "      <td>34</td>\n",
       "      <td>659.0</td>\n",
       "      <td>1</td>\n",
       "      <td>1</td>\n",
       "      <td>10</td>\n",
       "      <td>34</td>\n",
       "      <td>0.0</td>\n",
       "      <td>14500.0</td>\n",
       "      <td>22300.00</td>\n",
       "    </tr>\n",
       "    <tr>\n",
       "      <th>7986</th>\n",
       "      <td>0</td>\n",
       "      <td>460.0</td>\n",
       "      <td>34</td>\n",
       "      <td>659.0</td>\n",
       "      <td>1</td>\n",
       "      <td>1</td>\n",
       "      <td>10</td>\n",
       "      <td>34</td>\n",
       "      <td>0.0</td>\n",
       "      <td>15000.0</td>\n",
       "      <td>44748.68</td>\n",
       "    </tr>\n",
       "    <tr>\n",
       "      <th>7989</th>\n",
       "      <td>0</td>\n",
       "      <td>585.0</td>\n",
       "      <td>0</td>\n",
       "      <td>1236.0</td>\n",
       "      <td>1</td>\n",
       "      <td>1</td>\n",
       "      <td>10</td>\n",
       "      <td>34</td>\n",
       "      <td>0.0</td>\n",
       "      <td>17000.0</td>\n",
       "      <td>25800.00</td>\n",
       "    </tr>\n",
       "    <tr>\n",
       "      <th>8041</th>\n",
       "      <td>0</td>\n",
       "      <td>327.0</td>\n",
       "      <td>26</td>\n",
       "      <td>1445.0</td>\n",
       "      <td>1</td>\n",
       "      <td>1</td>\n",
       "      <td>1</td>\n",
       "      <td>25</td>\n",
       "      <td>0.0</td>\n",
       "      <td>4000.0</td>\n",
       "      <td>13349.41</td>\n",
       "    </tr>\n",
       "  </tbody>\n",
       "</table>\n",
       "<p>68 rows × 11 columns</p>\n",
       "</div>"
      ],
      "text/plain": [
       "      Emp_Left  Dept_ID  Age  Desig_Id  Marital_Status  Gender  State  City  \\\n",
       "1750         0    328.0   36     610.0               1       1     10    34   \n",
       "2020         0    324.0   36     611.0               1       1     10    34   \n",
       "2246         0    323.0   36     610.0               1       1     10    34   \n",
       "2247         0    323.0   36     610.0               1       1     10    34   \n",
       "2248         0    323.0   36     610.0               1       1     10    34   \n",
       "...        ...      ...  ...       ...             ...     ...    ...   ...   \n",
       "7779         0    585.0    0    1102.0               1       1     10    34   \n",
       "7984         0    581.0   34     659.0               1       1     10    34   \n",
       "7986         0    460.0   34     659.0               1       1     10    34   \n",
       "7989         0    585.0    0    1236.0               1       1     10    34   \n",
       "8041         0    327.0   26    1445.0               1       1      1    25   \n",
       "\n",
       "      Probation  Basic_Salary  Gross_Salary  \n",
       "1750        0.0       15000.0      23400.00  \n",
       "2020        0.0        5000.0       9388.00  \n",
       "2246        0.0       16000.0      25100.00  \n",
       "2247        0.0       15000.0      23700.00  \n",
       "2248        0.0       14000.0      22300.00  \n",
       "...         ...           ...           ...  \n",
       "7779        0.0       14500.0       7200.00  \n",
       "7984        0.0       14500.0      22300.00  \n",
       "7986        0.0       15000.0      44748.68  \n",
       "7989        0.0       17000.0      25800.00  \n",
       "8041        0.0        4000.0      13349.41  \n",
       "\n",
       "[68 rows x 11 columns]"
      ]
     },
     "execution_count": 106,
     "metadata": {},
     "output_type": "execute_result"
    }
   ],
   "source": [
    "low_attrition = df1.loc[(df1['Dept_ID'] > 313.0) & (df1['Dept_ID'] < 766.0) & ( df1['Emp_Left'] == 0) & (df1['Basic_Salary'] <= 18000) & (df1['Gender'] == 1) & (df1['Age'] <= 700)]\n",
    "per = (len(low_attrition)/len(total_emp)) * 100\n",
    "print(\"This list of Employee Left the company Within 90 -120 day, with greater than 90 percent Acc\" )\n",
    "low_attrition\n",
    "\n",
    "# Company Left under 90-180 Days "
   ]
  },
  {
   "cell_type": "code",
   "execution_count": 107,
   "metadata": {},
   "outputs": [
    {
     "name": "stdout",
     "output_type": "stream",
     "text": [
      "This list of Employee Females Count 11 Left the company Within 90 -120 day, with greater than 90 percent Acc\n"
     ]
    },
    {
     "data": {
      "text/html": [
       "<div>\n",
       "<style scoped>\n",
       "    .dataframe tbody tr th:only-of-type {\n",
       "        vertical-align: middle;\n",
       "    }\n",
       "\n",
       "    .dataframe tbody tr th {\n",
       "        vertical-align: top;\n",
       "    }\n",
       "\n",
       "    .dataframe thead th {\n",
       "        text-align: right;\n",
       "    }\n",
       "</style>\n",
       "<table border=\"1\" class=\"dataframe\">\n",
       "  <thead>\n",
       "    <tr style=\"text-align: right;\">\n",
       "      <th></th>\n",
       "      <th>Emp_Left</th>\n",
       "      <th>Dept_ID</th>\n",
       "      <th>Age</th>\n",
       "      <th>Desig_Id</th>\n",
       "      <th>Marital_Status</th>\n",
       "      <th>Gender</th>\n",
       "      <th>State</th>\n",
       "      <th>City</th>\n",
       "      <th>Probation</th>\n",
       "      <th>Basic_Salary</th>\n",
       "      <th>Gross_Salary</th>\n",
       "    </tr>\n",
       "  </thead>\n",
       "  <tbody>\n",
       "    <tr>\n",
       "      <th>6434</th>\n",
       "      <td>0</td>\n",
       "      <td>319.0</td>\n",
       "      <td>33</td>\n",
       "      <td>612.0</td>\n",
       "      <td>1</td>\n",
       "      <td>0</td>\n",
       "      <td>10</td>\n",
       "      <td>34</td>\n",
       "      <td>0.0</td>\n",
       "      <td>8000.0</td>\n",
       "      <td>1775.00</td>\n",
       "    </tr>\n",
       "    <tr>\n",
       "      <th>6556</th>\n",
       "      <td>0</td>\n",
       "      <td>582.0</td>\n",
       "      <td>35</td>\n",
       "      <td>659.0</td>\n",
       "      <td>5</td>\n",
       "      <td>0</td>\n",
       "      <td>10</td>\n",
       "      <td>34</td>\n",
       "      <td>0.0</td>\n",
       "      <td>12000.0</td>\n",
       "      <td>19190.00</td>\n",
       "    </tr>\n",
       "    <tr>\n",
       "      <th>6601</th>\n",
       "      <td>0</td>\n",
       "      <td>582.0</td>\n",
       "      <td>39</td>\n",
       "      <td>1099.0</td>\n",
       "      <td>5</td>\n",
       "      <td>0</td>\n",
       "      <td>10</td>\n",
       "      <td>34</td>\n",
       "      <td>0.0</td>\n",
       "      <td>4800.0</td>\n",
       "      <td>4800.00</td>\n",
       "    </tr>\n",
       "    <tr>\n",
       "      <th>6602</th>\n",
       "      <td>0</td>\n",
       "      <td>581.0</td>\n",
       "      <td>43</td>\n",
       "      <td>1098.0</td>\n",
       "      <td>2</td>\n",
       "      <td>0</td>\n",
       "      <td>7</td>\n",
       "      <td>22</td>\n",
       "      <td>0.0</td>\n",
       "      <td>6000.0</td>\n",
       "      <td>6000.00</td>\n",
       "    </tr>\n",
       "    <tr>\n",
       "      <th>6985</th>\n",
       "      <td>0</td>\n",
       "      <td>581.0</td>\n",
       "      <td>32</td>\n",
       "      <td>832.0</td>\n",
       "      <td>1</td>\n",
       "      <td>0</td>\n",
       "      <td>10</td>\n",
       "      <td>34</td>\n",
       "      <td>0.0</td>\n",
       "      <td>18000.0</td>\n",
       "      <td>30034.31</td>\n",
       "    </tr>\n",
       "    <tr>\n",
       "      <th>6997</th>\n",
       "      <td>0</td>\n",
       "      <td>581.0</td>\n",
       "      <td>30</td>\n",
       "      <td>1102.0</td>\n",
       "      <td>1</td>\n",
       "      <td>0</td>\n",
       "      <td>10</td>\n",
       "      <td>34</td>\n",
       "      <td>0.0</td>\n",
       "      <td>18000.0</td>\n",
       "      <td>3113.93</td>\n",
       "    </tr>\n",
       "    <tr>\n",
       "      <th>7002</th>\n",
       "      <td>0</td>\n",
       "      <td>581.0</td>\n",
       "      <td>33</td>\n",
       "      <td>621.0</td>\n",
       "      <td>1</td>\n",
       "      <td>0</td>\n",
       "      <td>10</td>\n",
       "      <td>34</td>\n",
       "      <td>0.0</td>\n",
       "      <td>18000.0</td>\n",
       "      <td>30619.31</td>\n",
       "    </tr>\n",
       "    <tr>\n",
       "      <th>7003</th>\n",
       "      <td>0</td>\n",
       "      <td>581.0</td>\n",
       "      <td>29</td>\n",
       "      <td>621.0</td>\n",
       "      <td>1</td>\n",
       "      <td>0</td>\n",
       "      <td>10</td>\n",
       "      <td>34</td>\n",
       "      <td>0.0</td>\n",
       "      <td>15000.0</td>\n",
       "      <td>11001.02</td>\n",
       "    </tr>\n",
       "    <tr>\n",
       "      <th>7008</th>\n",
       "      <td>0</td>\n",
       "      <td>581.0</td>\n",
       "      <td>33</td>\n",
       "      <td>832.0</td>\n",
       "      <td>1</td>\n",
       "      <td>0</td>\n",
       "      <td>3</td>\n",
       "      <td>40</td>\n",
       "      <td>0.0</td>\n",
       "      <td>15000.0</td>\n",
       "      <td>0.00</td>\n",
       "    </tr>\n",
       "    <tr>\n",
       "      <th>7098</th>\n",
       "      <td>0</td>\n",
       "      <td>327.0</td>\n",
       "      <td>33</td>\n",
       "      <td>621.0</td>\n",
       "      <td>1</td>\n",
       "      <td>0</td>\n",
       "      <td>10</td>\n",
       "      <td>34</td>\n",
       "      <td>0.0</td>\n",
       "      <td>18000.0</td>\n",
       "      <td>30824.31</td>\n",
       "    </tr>\n",
       "    <tr>\n",
       "      <th>7145</th>\n",
       "      <td>0</td>\n",
       "      <td>327.0</td>\n",
       "      <td>30</td>\n",
       "      <td>622.0</td>\n",
       "      <td>1</td>\n",
       "      <td>0</td>\n",
       "      <td>10</td>\n",
       "      <td>34</td>\n",
       "      <td>0.0</td>\n",
       "      <td>15000.0</td>\n",
       "      <td>10209.67</td>\n",
       "    </tr>\n",
       "  </tbody>\n",
       "</table>\n",
       "</div>"
      ],
      "text/plain": [
       "      Emp_Left  Dept_ID  Age  Desig_Id  Marital_Status  Gender  State  City  \\\n",
       "6434         0    319.0   33     612.0               1       0     10    34   \n",
       "6556         0    582.0   35     659.0               5       0     10    34   \n",
       "6601         0    582.0   39    1099.0               5       0     10    34   \n",
       "6602         0    581.0   43    1098.0               2       0      7    22   \n",
       "6985         0    581.0   32     832.0               1       0     10    34   \n",
       "6997         0    581.0   30    1102.0               1       0     10    34   \n",
       "7002         0    581.0   33     621.0               1       0     10    34   \n",
       "7003         0    581.0   29     621.0               1       0     10    34   \n",
       "7008         0    581.0   33     832.0               1       0      3    40   \n",
       "7098         0    327.0   33     621.0               1       0     10    34   \n",
       "7145         0    327.0   30     622.0               1       0     10    34   \n",
       "\n",
       "      Probation  Basic_Salary  Gross_Salary  \n",
       "6434        0.0        8000.0       1775.00  \n",
       "6556        0.0       12000.0      19190.00  \n",
       "6601        0.0        4800.0       4800.00  \n",
       "6602        0.0        6000.0       6000.00  \n",
       "6985        0.0       18000.0      30034.31  \n",
       "6997        0.0       18000.0       3113.93  \n",
       "7002        0.0       18000.0      30619.31  \n",
       "7003        0.0       15000.0      11001.02  \n",
       "7008        0.0       15000.0          0.00  \n",
       "7098        0.0       18000.0      30824.31  \n",
       "7145        0.0       15000.0      10209.67  "
      ]
     },
     "execution_count": 107,
     "metadata": {},
     "output_type": "execute_result"
    }
   ],
   "source": [
    "low_attrition = df1.loc[(df1['Dept_ID'] > 313.0) & (df1['Dept_ID'] < 766.0) & ( df1['Emp_Left'] == 0)& (df1['Basic_Salary'] <= 18000) & (df1['Gender'] == 0) & (df1['Age'] <= 700)]\n",
    "per = (len(low_attrition)/len(total_emp)) * 100\n",
    "print(f\"This list of Employee Females Count {len(low_attrition)} Left the company Within 90 -120 day, with greater than 90 percent Acc\" )\n",
    "low_attrition"
   ]
  },
  {
   "cell_type": "code",
   "execution_count": null,
   "metadata": {},
   "outputs": [],
   "source": []
  }
 ],
 "metadata": {
  "kernelspec": {
   "display_name": "venv",
   "language": "python",
   "name": "python3"
  },
  "language_info": {
   "codemirror_mode": {
    "name": "ipython",
    "version": 3
   },
   "file_extension": ".py",
   "mimetype": "text/x-python",
   "name": "python",
   "nbconvert_exporter": "python",
   "pygments_lexer": "ipython3",
   "version": "3.9.0"
  }
 },
 "nbformat": 4,
 "nbformat_minor": 2
}
